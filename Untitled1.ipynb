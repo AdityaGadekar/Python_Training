{
 "cells": [
  {
   "cell_type": "code",
   "execution_count": null,
   "id": "6aba69ad",
   "metadata": {},
   "outputs": [],
   "source": [
    "mydict={}"
   ]
  },
  {
   "cell_type": "code",
   "execution_count": 2,
   "id": "55c95c6e",
   "metadata": {},
   "outputs": [
    {
     "data": {
      "text/plain": [
       "{}"
      ]
     },
     "execution_count": 2,
     "metadata": {},
     "output_type": "execute_result"
    }
   ],
   "source": [
    "mydict"
   ]
  },
  {
   "cell_type": "code",
   "execution_count": 3,
   "id": "5db17101",
   "metadata": {},
   "outputs": [
    {
     "data": {
      "text/plain": [
       "dict"
      ]
     },
     "execution_count": 3,
     "metadata": {},
     "output_type": "execute_result"
    }
   ],
   "source": [
    "type(mydict)"
   ]
  },
  {
   "cell_type": "code",
   "execution_count": 4,
   "id": "ca4de72b",
   "metadata": {},
   "outputs": [],
   "source": [
    "mydict['k1']='v1'"
   ]
  },
  {
   "cell_type": "code",
   "execution_count": 5,
   "id": "1e2658e5",
   "metadata": {},
   "outputs": [
    {
     "data": {
      "text/plain": [
       "{'k1': 'v1'}"
      ]
     },
     "execution_count": 5,
     "metadata": {},
     "output_type": "execute_result"
    }
   ],
   "source": [
    "mydict"
   ]
  },
  {
   "cell_type": "code",
   "execution_count": 6,
   "id": "9b8470cb",
   "metadata": {},
   "outputs": [],
   "source": [
    "mydict['k1']='10'"
   ]
  },
  {
   "cell_type": "code",
   "execution_count": 7,
   "id": "e4c73308",
   "metadata": {},
   "outputs": [
    {
     "data": {
      "text/plain": [
       "{'k1': '10'}"
      ]
     },
     "execution_count": 7,
     "metadata": {},
     "output_type": "execute_result"
    }
   ],
   "source": [
    "mydict"
   ]
  },
  {
   "cell_type": "code",
   "execution_count": 8,
   "id": "3353546d",
   "metadata": {},
   "outputs": [
    {
     "data": {
      "text/plain": [
       "1"
      ]
     },
     "execution_count": 8,
     "metadata": {},
     "output_type": "execute_result"
    }
   ],
   "source": [
    "len(mydict)"
   ]
  },
  {
   "cell_type": "code",
   "execution_count": 10,
   "id": "46af0d1a",
   "metadata": {},
   "outputs": [],
   "source": [
    "d={'a':10, 'b':30}"
   ]
  },
  {
   "cell_type": "code",
   "execution_count": 11,
   "id": "47d777ab",
   "metadata": {},
   "outputs": [
    {
     "data": {
      "text/plain": [
       "{'a': 10, 'b': 30}"
      ]
     },
     "execution_count": 11,
     "metadata": {},
     "output_type": "execute_result"
    }
   ],
   "source": [
    "d"
   ]
  },
  {
   "cell_type": "code",
   "execution_count": 12,
   "id": "8ae19e53",
   "metadata": {},
   "outputs": [
    {
     "data": {
      "text/plain": [
       "10"
      ]
     },
     "execution_count": 12,
     "metadata": {},
     "output_type": "execute_result"
    }
   ],
   "source": [
    "d['a']"
   ]
  },
  {
   "cell_type": "code",
   "execution_count": 13,
   "id": "3459cd70",
   "metadata": {},
   "outputs": [
    {
     "data": {
      "text/plain": [
       "1689277264768"
      ]
     },
     "execution_count": 13,
     "metadata": {},
     "output_type": "execute_result"
    }
   ],
   "source": [
    "id(d)"
   ]
  },
  {
   "cell_type": "code",
   "execution_count": 14,
   "id": "3815d4d0",
   "metadata": {},
   "outputs": [],
   "source": [
    "detail={\"name\":\"akash\", \"age\":\"26\"}"
   ]
  },
  {
   "cell_type": "code",
   "execution_count": 15,
   "id": "02f04769",
   "metadata": {},
   "outputs": [
    {
     "data": {
      "text/plain": [
       "{'name': 'akash', 'age': '26'}"
      ]
     },
     "execution_count": 15,
     "metadata": {},
     "output_type": "execute_result"
    }
   ],
   "source": [
    "detail\n"
   ]
  },
  {
   "cell_type": "code",
   "execution_count": 16,
   "id": "bbe16c01",
   "metadata": {},
   "outputs": [
    {
     "ename": "TypeError",
     "evalue": "can only concatenate str (not \"int\") to str",
     "output_type": "error",
     "traceback": [
      "\u001b[1;31m---------------------------------------------------------------------------\u001b[0m",
      "\u001b[1;31mTypeError\u001b[0m                                 Traceback (most recent call last)",
      "\u001b[1;32m~\\AppData\\Local\\Temp/ipykernel_12396/3480322734.py\u001b[0m in \u001b[0;36m<module>\u001b[1;34m\u001b[0m\n\u001b[1;32m----> 1\u001b[1;33m \u001b[0mdetail\u001b[0m\u001b[1;33m[\u001b[0m\u001b[1;34m'age'\u001b[0m\u001b[1;33m]\u001b[0m\u001b[1;33m+=\u001b[0m\u001b[1;36m2\u001b[0m\u001b[1;33m\u001b[0m\u001b[1;33m\u001b[0m\u001b[0m\n\u001b[0m",
      "\u001b[1;31mTypeError\u001b[0m: can only concatenate str (not \"int\") to str"
     ]
    }
   ],
   "source": [
    "detail['age']+=2"
   ]
  },
  {
   "cell_type": "code",
   "execution_count": 17,
   "id": "7ffe2301",
   "metadata": {},
   "outputs": [],
   "source": [
    "lady={\"card\":3,\"cash\":1900,\"candies\":7}"
   ]
  },
  {
   "cell_type": "code",
   "execution_count": 18,
   "id": "975d3485",
   "metadata": {},
   "outputs": [
    {
     "data": {
      "text/plain": [
       "{'card': 3, 'cash': 1900, 'candies': 7}"
      ]
     },
     "execution_count": 18,
     "metadata": {},
     "output_type": "execute_result"
    }
   ],
   "source": [
    "lady\n"
   ]
  },
  {
   "cell_type": "code",
   "execution_count": 19,
   "id": "e956a4f3",
   "metadata": {},
   "outputs": [],
   "source": [
    "lady['candies']+=2\n"
   ]
  },
  {
   "cell_type": "code",
   "execution_count": 20,
   "id": "fddc255f",
   "metadata": {},
   "outputs": [
    {
     "data": {
      "text/plain": [
       "{'card': 3, 'cash': 1900, 'candies': 9}"
      ]
     },
     "execution_count": 20,
     "metadata": {},
     "output_type": "execute_result"
    }
   ],
   "source": [
    "lady\n"
   ]
  },
  {
   "cell_type": "code",
   "execution_count": 21,
   "id": "aee0fbf7",
   "metadata": {},
   "outputs": [],
   "source": [
    "lady['card']={\"Amez\":1,\"VISA\":{\"HDFC\":1,\"ICIC\":'gold'}}"
   ]
  },
  {
   "cell_type": "code",
   "execution_count": 22,
   "id": "a9522e6f",
   "metadata": {},
   "outputs": [
    {
     "data": {
      "text/plain": [
       "{'card': {'Amez': 1, 'VISA': {'HDFC': 1, 'ICIC': 'gold'}},\n",
       " 'cash': 1900,\n",
       " 'candies': 9}"
      ]
     },
     "execution_count": 22,
     "metadata": {},
     "output_type": "execute_result"
    }
   ],
   "source": [
    "lady\n"
   ]
  },
  {
   "cell_type": "code",
   "execution_count": 23,
   "id": "36d1116e",
   "metadata": {},
   "outputs": [
    {
     "data": {
      "text/plain": [
       "{'HDFC': 1, 'ICIC': 'gold'}"
      ]
     },
     "execution_count": 23,
     "metadata": {},
     "output_type": "execute_result"
    }
   ],
   "source": [
    "lady['card']['VISA']"
   ]
  },
  {
   "cell_type": "code",
   "execution_count": 24,
   "id": "9c60b11c",
   "metadata": {},
   "outputs": [
    {
     "data": {
      "text/plain": [
       "'gold'"
      ]
     },
     "execution_count": 24,
     "metadata": {},
     "output_type": "execute_result"
    }
   ],
   "source": [
    "lady['card']['VISA']['ICIC']"
   ]
  },
  {
   "cell_type": "code",
   "execution_count": 25,
   "id": "9db8dd2d",
   "metadata": {},
   "outputs": [
    {
     "data": {
      "text/plain": [
       "'d'"
      ]
     },
     "execution_count": 25,
     "metadata": {},
     "output_type": "execute_result"
    }
   ],
   "source": [
    "lady['card']['VISA']['ICIC'][-1]"
   ]
  },
  {
   "cell_type": "code",
   "execution_count": 26,
   "id": "9dc3c428",
   "metadata": {},
   "outputs": [
    {
     "name": "stdout",
     "output_type": "stream",
     "text": [
      "card\n",
      "cash\n",
      "candies\n"
     ]
    }
   ],
   "source": [
    "for ele in lady:\n",
    "    print(ele)"
   ]
  },
  {
   "cell_type": "code",
   "execution_count": 27,
   "id": "69bb9749",
   "metadata": {},
   "outputs": [
    {
     "name": "stdout",
     "output_type": "stream",
     "text": [
      "card -----> {'Amez': 1, 'VISA': {'HDFC': 1, 'ICIC': 'gold'}}\n",
      "cash -----> 1900\n",
      "candies -----> 9\n"
     ]
    }
   ],
   "source": [
    "for ele in lady:\n",
    "    print(ele,'----->', lady[ele])"
   ]
  },
  {
   "cell_type": "code",
   "execution_count": 29,
   "id": "28407785",
   "metadata": {},
   "outputs": [
    {
     "name": "stdout",
     "output_type": "stream",
     "text": [
      "{'Amez': 1, 'VISA': {'HDFC': 1, 'ICIC': 'gold'}}\n",
      "1900\n",
      "9\n"
     ]
    }
   ],
   "source": [
    "for value in lady.values():\n",
    "    print(value)"
   ]
  },
  {
   "cell_type": "code",
   "execution_count": 30,
   "id": "f351e8d0",
   "metadata": {},
   "outputs": [
    {
     "name": "stdout",
     "output_type": "stream",
     "text": [
      "candies -----> ('card', {'Amez': 1, 'VISA': {'HDFC': 1, 'ICIC': 'gold'}})\n",
      "candies -----> ('cash', 1900)\n",
      "candies -----> ('candies', 9)\n"
     ]
    }
   ],
   "source": [
    "for value in lady.items():\n",
    "    print(ele,'----->', value)"
   ]
  },
  {
   "cell_type": "code",
   "execution_count": 31,
   "id": "ce396bcf",
   "metadata": {},
   "outputs": [
    {
     "data": {
      "text/plain": [
       "['__class__',\n",
       " '__contains__',\n",
       " '__delattr__',\n",
       " '__delitem__',\n",
       " '__dir__',\n",
       " '__doc__',\n",
       " '__eq__',\n",
       " '__format__',\n",
       " '__ge__',\n",
       " '__getattribute__',\n",
       " '__getitem__',\n",
       " '__gt__',\n",
       " '__hash__',\n",
       " '__init__',\n",
       " '__init_subclass__',\n",
       " '__iter__',\n",
       " '__le__',\n",
       " '__len__',\n",
       " '__lt__',\n",
       " '__ne__',\n",
       " '__new__',\n",
       " '__reduce__',\n",
       " '__reduce_ex__',\n",
       " '__repr__',\n",
       " '__reversed__',\n",
       " '__setattr__',\n",
       " '__setitem__',\n",
       " '__sizeof__',\n",
       " '__str__',\n",
       " '__subclasshook__',\n",
       " 'clear',\n",
       " 'copy',\n",
       " 'fromkeys',\n",
       " 'get',\n",
       " 'items',\n",
       " 'keys',\n",
       " 'pop',\n",
       " 'popitem',\n",
       " 'setdefault',\n",
       " 'update',\n",
       " 'values']"
      ]
     },
     "execution_count": 31,
     "metadata": {},
     "output_type": "execute_result"
    }
   ],
   "source": [
    "dir(lady)"
   ]
  },
  {
   "cell_type": "code",
   "execution_count": 32,
   "id": "49e97e36",
   "metadata": {},
   "outputs": [
    {
     "data": {
      "text/plain": [
       "{'Amez': 1, 'VISA': {'HDFC': 1, 'ICIC': 'gold'}}"
      ]
     },
     "execution_count": 32,
     "metadata": {},
     "output_type": "execute_result"
    }
   ],
   "source": [
    "lady.pop('card')"
   ]
  },
  {
   "cell_type": "code",
   "execution_count": 33,
   "id": "2a776527",
   "metadata": {},
   "outputs": [],
   "source": [
    "del lady['cash']"
   ]
  },
  {
   "cell_type": "code",
   "execution_count": 34,
   "id": "857af747",
   "metadata": {},
   "outputs": [
    {
     "data": {
      "text/plain": [
       "{'candies': 9}"
      ]
     },
     "execution_count": 34,
     "metadata": {},
     "output_type": "execute_result"
    }
   ],
   "source": [
    "lady"
   ]
  },
  {
   "cell_type": "code",
   "execution_count": 35,
   "id": "cd3e5c66",
   "metadata": {},
   "outputs": [],
   "source": [
    "d= {'a':100, 'b':200,'c':30, 'e':20, 'k':{'x':10},'v':[1,2,3]}"
   ]
  },
  {
   "cell_type": "code",
   "execution_count": 37,
   "id": "ebde007e",
   "metadata": {},
   "outputs": [
    {
     "data": {
      "text/plain": [
       "1"
      ]
     },
     "execution_count": 37,
     "metadata": {},
     "output_type": "execute_result"
    }
   ],
   "source": [
    "d['v'][0]"
   ]
  },
  {
   "cell_type": "code",
   "execution_count": 39,
   "id": "ccb0ff38",
   "metadata": {},
   "outputs": [
    {
     "name": "stdout",
     "output_type": "stream",
     "text": [
      "1\n",
      "2\n",
      "3\n"
     ]
    }
   ],
   "source": [
    "for itm in d['v']:\n",
    "    print(itm)\n"
   ]
  },
  {
   "cell_type": "code",
   "execution_count": 43,
   "id": "2ad7988b",
   "metadata": {},
   "outputs": [],
   "source": [
    "tp=(23, 1, 'hit','111')"
   ]
  },
  {
   "cell_type": "code",
   "execution_count": 44,
   "id": "0f3287ea",
   "metadata": {},
   "outputs": [
    {
     "data": {
      "text/plain": [
       "tuple"
      ]
     },
     "execution_count": 44,
     "metadata": {},
     "output_type": "execute_result"
    }
   ],
   "source": [
    "type(tp)"
   ]
  },
  {
   "cell_type": "code",
   "execution_count": 45,
   "id": "c08ddec5",
   "metadata": {},
   "outputs": [
    {
     "data": {
      "text/plain": [
       "'111'"
      ]
     },
     "execution_count": 45,
     "metadata": {},
     "output_type": "execute_result"
    }
   ],
   "source": [
    "tp[-1]\n",
    "\n"
   ]
  },
  {
   "cell_type": "code",
   "execution_count": 46,
   "id": "2cbb85fb",
   "metadata": {},
   "outputs": [
    {
     "data": {
      "text/plain": [
       "(23, 1, 'hit', '111')"
      ]
     },
     "execution_count": 46,
     "metadata": {},
     "output_type": "execute_result"
    }
   ],
   "source": [
    "tp[:4]"
   ]
  },
  {
   "cell_type": "code",
   "execution_count": 47,
   "id": "332fb86b",
   "metadata": {},
   "outputs": [],
   "source": [
    "tp_1=((1,2,3),7,(45,46,47),(6,7,8))"
   ]
  },
  {
   "cell_type": "code",
   "execution_count": 48,
   "id": "bd17c27c",
   "metadata": {},
   "outputs": [
    {
     "data": {
      "text/plain": [
       "((1, 2, 3), 7, (45, 46, 47), (6, 7, 8))"
      ]
     },
     "execution_count": 48,
     "metadata": {},
     "output_type": "execute_result"
    }
   ],
   "source": [
    "tp_1"
   ]
  },
  {
   "cell_type": "code",
   "execution_count": 49,
   "id": "92344b6e",
   "metadata": {},
   "outputs": [],
   "source": [
    "tp_1=((1,2,3),7,(45,46,47),(6,7,8),{'1':1})"
   ]
  },
  {
   "cell_type": "code",
   "execution_count": 50,
   "id": "1f815584",
   "metadata": {},
   "outputs": [
    {
     "data": {
      "text/plain": [
       "((1, 2, 3), 7, (45, 46, 47), (6, 7, 8), {'1': 1})"
      ]
     },
     "execution_count": 50,
     "metadata": {},
     "output_type": "execute_result"
    }
   ],
   "source": [
    "tp_1\n"
   ]
  },
  {
   "cell_type": "code",
   "execution_count": 52,
   "id": "343fb562",
   "metadata": {},
   "outputs": [
    {
     "name": "stdout",
     "output_type": "stream",
     "text": [
      "(1, 2, 3)\n",
      "1\n",
      "2\n",
      "3\n",
      "(45, 46, 47)\n",
      "45\n",
      "46\n",
      "47\n",
      "(6, 7, 8)\n",
      "6\n",
      "7\n",
      "8\n"
     ]
    }
   ],
   "source": [
    "for x in tp_1:\n",
    "    if isinstance(x, tuple):\n",
    "        print(x)\n",
    "        for j in x:\n",
    "            print(j)\n"
   ]
  },
  {
   "cell_type": "code",
   "execution_count": 53,
   "id": "5b7b25aa",
   "metadata": {},
   "outputs": [
    {
     "data": {
      "text/plain": [
       "1"
      ]
     },
     "execution_count": 53,
     "metadata": {},
     "output_type": "execute_result"
    }
   ],
   "source": [
    "tp[1]"
   ]
  },
  {
   "cell_type": "code",
   "execution_count": 3,
   "id": "76343e16",
   "metadata": {},
   "outputs": [
    {
     "name": "stdout",
     "output_type": "stream",
     "text": [
      "1. Create Employee records\n",
      "2. Update the employee record\n",
      "3. Delete the employee record\n",
      "4. Display\n",
      "5. Exit\n",
      "Enter the choice(1-5): 5\n"
     ]
    }
   ],
   "source": [
    "emp_info = {}\n",
    "while True:\n",
    "    print(\"1. Create Employee records\")\n",
    "    print(\"2. Update the employee record\")\n",
    "    print(\"3. Delete the employee record\")\n",
    "    print(\"4. Display\")\n",
    "    print(\"5. Exit\")\n",
    "    ch = int(input(\"Enter the choice(1-5): \"))\n",
    "    if ch == 1:\n",
    "        name = input(\"Enter the emp1 name:\")\n",
    "        emp_id = int(input(\"Enter the employee id\"))\n",
    "        ph = input(\"Enter the phone number:\")\n",
    "        tech = input(\"Technologies[comma seprated eg: C++, Python, .Net]\")\n",
    "        emp_info[emp_id]={\"name\":name, \"phone\":ph, 'tech':tech.split(',')}\n",
    "    elif ch==2:\n",
    "        who = int(input(\"Whose details you want to update?, Please enter the emp_id\"))\n",
    "        rec = emp_info[who]\n",
    "        for field, value in rec.items():\n",
    "            new = input('{} ({})'.format(field,value))\n",
    "            emp_info[who][field] = value if new == '' else new\n",
    "    elif ch ==3:\n",
    "        who = int(input(\"Enter emp_id to delete\"))\n",
    "        if who in emp_info: \n",
    "            del emp_info[who]\n",
    "        else:\n",
    "            print(\"Record not found\")\n",
    "    elif ch ==4:\n",
    "        print(emp_info)\n",
    "    else:\n",
    "        break\n",
    "    "
   ]
  },
  {
   "cell_type": "code",
   "execution_count": null,
   "id": "be280302",
   "metadata": {},
   "outputs": [],
   "source": [
    "\n"
   ]
  },
  {
   "cell_type": "code",
   "execution_count": 5,
   "id": "8323de6a",
   "metadata": {},
   "outputs": [
    {
     "name": "stdout",
     "output_type": "stream",
     "text": [
      "0\n",
      "1\n",
      "2\n",
      "3\n",
      "4\n",
      "5\n",
      "6\n",
      "7\n",
      "8\n",
      "9\n"
     ]
    }
   ],
   "source": [
    "for i in range(10):\n",
    "    print(i)"
   ]
  },
  {
   "cell_type": "code",
   "execution_count": 6,
   "id": "ec9d3c66",
   "metadata": {},
   "outputs": [
    {
     "data": {
      "text/plain": [
       "[0, 2, 4, 6, 8]"
      ]
     },
     "execution_count": 6,
     "metadata": {},
     "output_type": "execute_result"
    }
   ],
   "source": [
    "[x for x in range(10) if x%2==0]"
   ]
  },
  {
   "cell_type": "code",
   "execution_count": 7,
   "id": "07cfa62d",
   "metadata": {},
   "outputs": [],
   "source": [
    "m= [1,2,3,4,5,6,7,8]"
   ]
  },
  {
   "cell_type": "code",
   "execution_count": 10,
   "id": "31a902ff",
   "metadata": {},
   "outputs": [
    {
     "name": "stdout",
     "output_type": "stream",
     "text": [
      "Enter a num for which you want to see square6\n",
      "64\n"
     ]
    }
   ],
   "source": [
    "n= [1,2,3,4,5,6,7,8]\n",
    "num= int(input(\"Enter a num for which you want to see square\"))\n",
    "squares= []\n",
    "for num in n:\n",
    "    squares.append(num**2)\n",
    "idx_pos = n.index(num)\n",
    "print(squares[idx_pos])"
   ]
  },
  {
   "cell_type": "code",
   "execution_count": 11,
   "id": "2089fd82",
   "metadata": {},
   "outputs": [
    {
     "name": "stdout",
     "output_type": "stream",
     "text": [
      "Enter a index for which you want to see square4\n",
      "16\n"
     ]
    }
   ],
   "source": [
    "num= int(input(\"Enter a index for which you want to see square\"))\n",
    "sq = [num**2 for num in n]\n",
    "idx_pos = n.index(num)\n",
    "print(sq[idx_pos])\n"
   ]
  },
  {
   "cell_type": "code",
   "execution_count": 12,
   "id": "18b60431",
   "metadata": {},
   "outputs": [
    {
     "data": {
      "text/plain": [
       "{1: 1, 2: 4, 3: 9, 4: 16, 5: 25}"
      ]
     },
     "execution_count": 12,
     "metadata": {},
     "output_type": "execute_result"
    }
   ],
   "source": [
    "{k:k**2 for k in range(1,6)}"
   ]
  },
  {
   "cell_type": "code",
   "execution_count": 13,
   "id": "a121dc74",
   "metadata": {},
   "outputs": [],
   "source": [
    "# tuple into dict"
   ]
  },
  {
   "cell_type": "code",
   "execution_count": 14,
   "id": "4398d56f",
   "metadata": {},
   "outputs": [],
   "source": [
    "tp= (45, 77, 100, 'data', [\"raj\", \"rohan\"])"
   ]
  },
  {
   "cell_type": "code",
   "execution_count": 15,
   "id": "295affbd",
   "metadata": {},
   "outputs": [
    {
     "data": {
      "text/plain": [
       "{0: 45, 1: 77, 2: 100, 3: 'data', 4: ['raj', 'rohan']}"
      ]
     },
     "execution_count": 15,
     "metadata": {},
     "output_type": "execute_result"
    }
   ],
   "source": [
    "{k:tp[k] for k in range(len(tp))}"
   ]
  },
  {
   "cell_type": "code",
   "execution_count": 16,
   "id": "80d7205d",
   "metadata": {},
   "outputs": [],
   "source": [
    "#other way"
   ]
  },
  {
   "cell_type": "code",
   "execution_count": 17,
   "id": "2783b826",
   "metadata": {},
   "outputs": [
    {
     "data": {
      "text/plain": [
       "{0: 45, 1: 77, 2: 100, 3: 'data', 4: ['raj', 'rohan']}"
      ]
     },
     "execution_count": 17,
     "metadata": {},
     "output_type": "execute_result"
    }
   ],
   "source": [
    "{tp.index(v):v for v in tp}"
   ]
  },
  {
   "cell_type": "code",
   "execution_count": 18,
   "id": "5f51b6c3",
   "metadata": {},
   "outputs": [],
   "source": [
    "new_tp=tp[::-1]"
   ]
  },
  {
   "cell_type": "code",
   "execution_count": 19,
   "id": "91192e69",
   "metadata": {},
   "outputs": [
    {
     "name": "stdout",
     "output_type": "stream",
     "text": [
      "(['raj', 'rohan'], 'data', 100, 77, 45)\n"
     ]
    }
   ],
   "source": [
    "print(new_tp)"
   ]
  },
  {
   "cell_type": "code",
   "execution_count": 20,
   "id": "6b7f4314",
   "metadata": {},
   "outputs": [],
   "source": [
    "s={2,4,6,8,90,88,92,91}\n"
   ]
  },
  {
   "cell_type": "code",
   "execution_count": 21,
   "id": "e28f0447",
   "metadata": {},
   "outputs": [
    {
     "data": {
      "text/plain": [
       "set"
      ]
     },
     "execution_count": 21,
     "metadata": {},
     "output_type": "execute_result"
    }
   ],
   "source": [
    "type(s)"
   ]
  },
  {
   "cell_type": "code",
   "execution_count": 22,
   "id": "36d831b5",
   "metadata": {},
   "outputs": [
    {
     "data": {
      "text/plain": [
       "{1, 2, 3, 5, 6}"
      ]
     },
     "execution_count": 22,
     "metadata": {},
     "output_type": "execute_result"
    }
   ],
   "source": [
    "lst = [1,1,2,2,2,3,3,5,5,5,6,6]\n",
    "set(lst)"
   ]
  },
  {
   "cell_type": "code",
   "execution_count": 23,
   "id": "16698ee6",
   "metadata": {},
   "outputs": [
    {
     "data": {
      "text/plain": [
       "['__and__',\n",
       " '__class__',\n",
       " '__contains__',\n",
       " '__delattr__',\n",
       " '__dir__',\n",
       " '__doc__',\n",
       " '__eq__',\n",
       " '__format__',\n",
       " '__ge__',\n",
       " '__getattribute__',\n",
       " '__gt__',\n",
       " '__hash__',\n",
       " '__iand__',\n",
       " '__init__',\n",
       " '__init_subclass__',\n",
       " '__ior__',\n",
       " '__isub__',\n",
       " '__iter__',\n",
       " '__ixor__',\n",
       " '__le__',\n",
       " '__len__',\n",
       " '__lt__',\n",
       " '__ne__',\n",
       " '__new__',\n",
       " '__or__',\n",
       " '__rand__',\n",
       " '__reduce__',\n",
       " '__reduce_ex__',\n",
       " '__repr__',\n",
       " '__ror__',\n",
       " '__rsub__',\n",
       " '__rxor__',\n",
       " '__setattr__',\n",
       " '__sizeof__',\n",
       " '__str__',\n",
       " '__sub__',\n",
       " '__subclasshook__',\n",
       " '__xor__',\n",
       " 'add',\n",
       " 'clear',\n",
       " 'copy',\n",
       " 'difference',\n",
       " 'difference_update',\n",
       " 'discard',\n",
       " 'intersection',\n",
       " 'intersection_update',\n",
       " 'isdisjoint',\n",
       " 'issubset',\n",
       " 'issuperset',\n",
       " 'pop',\n",
       " 'remove',\n",
       " 'symmetric_difference',\n",
       " 'symmetric_difference_update',\n",
       " 'union',\n",
       " 'update']"
      ]
     },
     "execution_count": 23,
     "metadata": {},
     "output_type": "execute_result"
    }
   ],
   "source": [
    "dir(set)"
   ]
  },
  {
   "cell_type": "code",
   "execution_count": 24,
   "id": "61eb87f2",
   "metadata": {},
   "outputs": [],
   "source": [
    "s.add(100) "
   ]
  },
  {
   "cell_type": "code",
   "execution_count": 25,
   "id": "f075e889",
   "metadata": {},
   "outputs": [
    {
     "data": {
      "text/plain": [
       "{2, 4, 6, 8, 88, 90, 91, 92, 100}"
      ]
     },
     "execution_count": 25,
     "metadata": {},
     "output_type": "execute_result"
    }
   ],
   "source": [
    "s "
   ]
  },
  {
   "cell_type": "code",
   "execution_count": 26,
   "id": "0db35f64",
   "metadata": {},
   "outputs": [
    {
     "data": {
      "text/plain": [
       "[34, 6, 7, 5, 3, 2, (88,), 4, 5, 7, 8, 9, 4, 4, 'hi', 5, (7, 97, 7), 4, 2]"
      ]
     },
     "execution_count": 26,
     "metadata": {},
     "output_type": "execute_result"
    }
   ],
   "source": [
    "lst = [34,6,7,5,3,2,(88,), 4,5,7,8,9,4,4,'hi',5,(7,97,7),4,2]\n",
    "lst"
   ]
  },
  {
   "cell_type": "code",
   "execution_count": 27,
   "id": "2705aa59",
   "metadata": {},
   "outputs": [
    {
     "data": {
      "text/plain": [
       "{(7, 97, 7), (88,), 2, 3, 34, 4, 5, 6, 7, 8, 9, 'hi'}"
      ]
     },
     "execution_count": 27,
     "metadata": {},
     "output_type": "execute_result"
    }
   ],
   "source": [
    "set(lst)"
   ]
  },
  {
   "cell_type": "code",
   "execution_count": 28,
   "id": "00f96c40",
   "metadata": {},
   "outputs": [],
   "source": [
    "s1 = {1,2,3,4,5,7,8,9}\n",
    "s2= {5,6,7,8,3,5,9,4}"
   ]
  },
  {
   "cell_type": "code",
   "execution_count": 29,
   "id": "9ad9a5ce",
   "metadata": {},
   "outputs": [
    {
     "data": {
      "text/plain": [
       "{1, 2, 3, 4, 5, 6, 7, 8, 9}"
      ]
     },
     "execution_count": 29,
     "metadata": {},
     "output_type": "execute_result"
    }
   ],
   "source": [
    "s1.union(s2) "
   ]
  },
  {
   "cell_type": "code",
   "execution_count": 30,
   "id": "8f1d806d",
   "metadata": {},
   "outputs": [
    {
     "data": {
      "text/plain": [
       "{1, 2}"
      ]
     },
     "execution_count": 30,
     "metadata": {},
     "output_type": "execute_result"
    }
   ],
   "source": [
    "s1.difference(s2) "
   ]
  },
  {
   "cell_type": "code",
   "execution_count": 31,
   "id": "89e55255",
   "metadata": {},
   "outputs": [
    {
     "data": {
      "text/plain": [
       "{6}"
      ]
     },
     "execution_count": 31,
     "metadata": {},
     "output_type": "execute_result"
    }
   ],
   "source": [
    "s2.difference(s1)  "
   ]
  },
  {
   "cell_type": "code",
   "execution_count": 32,
   "id": "f8e260e3",
   "metadata": {},
   "outputs": [
    {
     "data": {
      "text/plain": [
       "{3, 4, 5, 7, 8, 9}"
      ]
     },
     "execution_count": 32,
     "metadata": {},
     "output_type": "execute_result"
    }
   ],
   "source": [
    "s1.intersection(s2)  "
   ]
  },
  {
   "cell_type": "code",
   "execution_count": 33,
   "id": "c375dae6",
   "metadata": {},
   "outputs": [
    {
     "data": {
      "text/plain": [
       "{1, 2}"
      ]
     },
     "execution_count": 33,
     "metadata": {},
     "output_type": "execute_result"
    }
   ],
   "source": [
    "s1-s2  "
   ]
  },
  {
   "cell_type": "code",
   "execution_count": 34,
   "id": "f4d051bd",
   "metadata": {},
   "outputs": [
    {
     "data": {
      "text/plain": [
       "{1, 2, 6}"
      ]
     },
     "execution_count": 34,
     "metadata": {},
     "output_type": "execute_result"
    }
   ],
   "source": [
    "s1.symmetric_difference(s2)  "
   ]
  },
  {
   "cell_type": "code",
   "execution_count": 36,
   "id": "9981391f",
   "metadata": {},
   "outputs": [],
   "source": [
    "s1.symmetric_difference_update(s2)  "
   ]
  },
  {
   "cell_type": "code",
   "execution_count": 38,
   "id": "2b265107",
   "metadata": {},
   "outputs": [],
   "source": [
    "s1.remove(9)  "
   ]
  },
  {
   "cell_type": "code",
   "execution_count": 39,
   "id": "2f44c02d",
   "metadata": {},
   "outputs": [
    {
     "data": {
      "text/plain": [
       "{1, 2, 3, 4, 5, 7, 8}"
      ]
     },
     "execution_count": 39,
     "metadata": {},
     "output_type": "execute_result"
    }
   ],
   "source": [
    "s1 "
   ]
  },
  {
   "cell_type": "code",
   "execution_count": 43,
   "id": "c2d7f1f2",
   "metadata": {},
   "outputs": [
    {
     "name": "stdout",
     "output_type": "stream",
     "text": [
      "Hello xyz\n",
      "Welcome to python\n",
      "Your age is 26\n",
      "Hello xyz\n",
      "Welcome to python\n",
      "Your age is 26\n"
     ]
    }
   ],
   "source": [
    "def greeting():\n",
    "    print(\"Hello xyz\")\n",
    "    print(\"Welcome to python\")\n",
    "    print(\"Your age is 26\")  \n",
    "greeting()\n",
    "greeting() \n",
    "\n"
   ]
  },
  {
   "cell_type": "code",
   "execution_count": 48,
   "id": "82802569",
   "metadata": {},
   "outputs": [
    {
     "name": "stdout",
     "output_type": "stream",
     "text": [
      "Hello Adi\n",
      "Welcome to python\n",
      "Your age is uh\n"
     ]
    }
   ],
   "source": [
    "def greeting(name, age):\n",
    "    \"\"\"\n",
    "     this funtion is responsible to great people\n",
    "    \"\"\"\n",
    "    print(\"Hello %s\" %name)\n",
    "    print(\"Welcome to python\")\n",
    "    print(\"Your age is %s\" %age)\n",
    "    if isinstance(age, (int, float)):\n",
    "        print(\"age:\", age)\n",
    "greeting(\"Adi\", \"uh\")   \n",
    "\n",
    "    "
   ]
  },
  {
   "cell_type": "code",
   "execution_count": 49,
   "id": "10d570cc",
   "metadata": {},
   "outputs": [
    {
     "name": "stdout",
     "output_type": "stream",
     "text": [
      "Help on function greeting in module __main__:\n",
      "\n",
      "greeting(name, age)\n",
      "\n"
     ]
    }
   ],
   "source": [
    "help(greeting)  \n"
   ]
  },
  {
   "cell_type": "code",
   "execution_count": 50,
   "id": "b6ae52b7",
   "metadata": {},
   "outputs": [],
   "source": [
    "def greeting(name='', age=25):\n",
    "    \"\"\"\n",
    "    this funtion is responsible to great people\n",
    "    \"\"\"\n",
    "    print(\"hello {}\".format(name))\n",
    "    print(\"Welcome to python\")\n",
    "    if isinstance(age, (int, float)):\n",
    "        print(\"age:\", age)\n",
    "    \n"
   ]
  },
  {
   "cell_type": "code",
   "execution_count": 51,
   "id": "6186fef8",
   "metadata": {},
   "outputs": [
    {
     "name": "stdout",
     "output_type": "stream",
     "text": [
      "hello John\n",
      "Welcome to python\n",
      "age: 25\n"
     ]
    }
   ],
   "source": [
    "greeting(name=\"John\")  "
   ]
  },
  {
   "cell_type": "code",
   "execution_count": 53,
   "id": "6beb9eff",
   "metadata": {},
   "outputs": [],
   "source": [
    "def greeting(*args, phone=\"0000\", address=\"Pune\"):\n",
    "    print(\"Complete args {}\".format(args))\n",
    "    print(\"hello {}\".format(args[0]))\n",
    "    print(\"age {}\".format(args[1]))  \n",
    "        \n",
    "    "
   ]
  },
  {
   "cell_type": "code",
   "execution_count": 54,
   "id": "d1151c2e",
   "metadata": {},
   "outputs": [
    {
     "name": "stdout",
     "output_type": "stream",
     "text": [
      "Complete args ('ram', 18)\n",
      "hello ram\n",
      "age 18\n"
     ]
    }
   ],
   "source": [
    "greeting('ram',18, phone='12222') "
   ]
  },
  {
   "cell_type": "code",
   "execution_count": 55,
   "id": "ae15abfc",
   "metadata": {},
   "outputs": [],
   "source": [
    "def get_data(name, *args, phone=\"0000\", address=\"mum\"):\n",
    "    print(\"name\",name)\n",
    "    print(\"args\",args)\n",
    "    print(\"phone\",phone)\n",
    "    print(\"address\",address)\n",
    "    \n",
    "    "
   ]
  },
  {
   "cell_type": "code",
   "execution_count": 60,
   "id": "0155757f",
   "metadata": {},
   "outputs": [
    {
     "name": "stdout",
     "output_type": "stream",
     "text": [
      "name Adi\n",
      "name ('IT', 'Mumbai')\n",
      "name 11\n",
      "name num\n"
     ]
    }
   ],
   "source": [
    "get_data('Adi', 'IT', \"Mumbai\",phone=\"11\", address=\"num\")  \n",
    "\n"
   ]
  },
  {
   "cell_type": "code",
   "execution_count": 61,
   "id": "34766a57",
   "metadata": {},
   "outputs": [
    {
     "name": "stdout",
     "output_type": "stream",
     "text": [
      "name Adi\n",
      "name ('IT', 'Mumbai')\n",
      "name 11\n",
      "name num\n"
     ]
    }
   ],
   "source": [
    "get_data('Adi', 'IT', \"Mumbai\",phone=\"11\", address=\"num\")  \n",
    "\n",
    "\n",
    "\n"
   ]
  },
  {
   "cell_type": "code",
   "execution_count": 62,
   "id": "63ce0e43",
   "metadata": {},
   "outputs": [],
   "source": [
    "def get_data(name, *args, **kwargs):\n",
    "    print(\"name\",name)\n",
    "    print(\"args\",args)\n",
    "    print(\"kwargs\",kwargs)    \n",
    "    \n",
    "    "
   ]
  },
  {
   "cell_type": "code",
   "execution_count": 63,
   "id": "95deeeae",
   "metadata": {},
   "outputs": [
    {
     "name": "stdout",
     "output_type": "stream",
     "text": [
      "name rama\n",
      "args (60000, 'IT', 'Banglore')\n",
      "kwargs {'phone': '19292', 'Location': 'Pune'}\n"
     ]
    }
   ],
   "source": [
    "get_data('rama', 60000, \"IT\",\"Banglore\", phone=\"19292\", Location=\"Pune\")"
   ]
  },
  {
   "cell_type": "code",
   "execution_count": 64,
   "id": "c0bff966",
   "metadata": {},
   "outputs": [],
   "source": [
    "def get_data(name, *args, **kwargs):\n",
    "    print(\"name\",name)\n",
    "    print(\"args\",args)\n",
    "    print(\"Phone\",kwargs['phone']) \n",
    "    "
   ]
  },
  {
   "cell_type": "code",
   "execution_count": 65,
   "id": "31daca56",
   "metadata": {},
   "outputs": [
    {
     "name": "stdout",
     "output_type": "stream",
     "text": [
      "name rama\n",
      "args (60000, 'IT', 'Banglore')\n",
      "Phone 19292\n"
     ]
    }
   ],
   "source": [
    "get_data('rama', 60000, \"IT\",\"Banglore\", phone=\"19292\", Location=\"Pune\")\n",
    "\n"
   ]
  },
  {
   "cell_type": "code",
   "execution_count": null,
   "id": "2f180ad9",
   "metadata": {},
   "outputs": [],
   "source": [
    "x = lamba x: x**2 \n",
    "    "
   ]
  },
  {
   "cell_type": "code",
   "execution_count": 74,
   "id": "7b97e3af",
   "metadata": {},
   "outputs": [
    {
     "ename": "NameError",
     "evalue": "name 'x' is not defined",
     "output_type": "error",
     "traceback": [
      "\u001b[1;31m---------------------------------------------------------------------------\u001b[0m",
      "\u001b[1;31mNameError\u001b[0m                                 Traceback (most recent call last)",
      "\u001b[1;32m~\\AppData\\Local\\Temp/ipykernel_11720/1779974549.py\u001b[0m in \u001b[0;36m<module>\u001b[1;34m\u001b[0m\n\u001b[1;32m----> 1\u001b[1;33m \u001b[0mx\u001b[0m\u001b[1;33m(\u001b[0m\u001b[1;36m1000\u001b[0m\u001b[1;33m)\u001b[0m\u001b[1;33m\u001b[0m\u001b[1;33m\u001b[0m\u001b[0m\n\u001b[0m",
      "\u001b[1;31mNameError\u001b[0m: name 'x' is not defined"
     ]
    }
   ],
   "source": [
    "x(1000)\n"
   ]
  },
  {
   "cell_type": "code",
   "execution_count": 76,
   "id": "4f384724",
   "metadata": {},
   "outputs": [
    {
     "ename": "SyntaxError",
     "evalue": "invalid syntax (Temp/ipykernel_11720/457157764.py, line 1)",
     "output_type": "error",
     "traceback": [
      "\u001b[1;36m  File \u001b[1;32m\"C:\\Users\\Aditya\\AppData\\Local\\Temp/ipykernel_11720/457157764.py\"\u001b[1;36m, line \u001b[1;32m1\u001b[0m\n\u001b[1;33m    list(map(str.upper,['python, 'is', 'fun']))\u001b[0m\n\u001b[1;37m                                        ^\u001b[0m\n\u001b[1;31mSyntaxError\u001b[0m\u001b[1;31m:\u001b[0m invalid syntax\n"
     ]
    }
   ],
   "source": [
    "list(map(str.upper,['python, 'is', 'fun']))\n"
   ]
  },
  {
   "cell_type": "code",
   "execution_count": 77,
   "id": "202dca1c",
   "metadata": {},
   "outputs": [
    {
     "name": "stdout",
     "output_type": "stream",
     "text": [
      "PYTHON\n",
      "IS\n",
      "FUN\n"
     ]
    }
   ],
   "source": [
    "for w in ['python', 'is', 'fun']:\n",
    "    print(w.upper())\n"
   ]
  },
  {
   "cell_type": "code",
   "execution_count": 78,
   "id": "4ef9c975",
   "metadata": {},
   "outputs": [],
   "source": [
    "def fun():\n",
    "    x1=4\n",
    "    print(x1)\n"
   ]
  },
  {
   "cell_type": "code",
   "execution_count": 79,
   "id": "211ffb1a",
   "metadata": {},
   "outputs": [
    {
     "name": "stdout",
     "output_type": "stream",
     "text": [
      "4\n"
     ]
    }
   ],
   "source": [
    "fun() "
   ]
  },
  {
   "cell_type": "code",
   "execution_count": 80,
   "id": "2f3e6666",
   "metadata": {},
   "outputs": [
    {
     "ename": "NameError",
     "evalue": "name 'x1' is not defined",
     "output_type": "error",
     "traceback": [
      "\u001b[1;31m---------------------------------------------------------------------------\u001b[0m",
      "\u001b[1;31mNameError\u001b[0m                                 Traceback (most recent call last)",
      "\u001b[1;32m~\\AppData\\Local\\Temp/ipykernel_11720/3390362861.py\u001b[0m in \u001b[0;36m<module>\u001b[1;34m\u001b[0m\n\u001b[1;32m----> 1\u001b[1;33m \u001b[0mx1\u001b[0m\u001b[1;33m\u001b[0m\u001b[1;33m\u001b[0m\u001b[0m\n\u001b[0m",
      "\u001b[1;31mNameError\u001b[0m: name 'x1' is not defined"
     ]
    }
   ],
   "source": [
    "x1"
   ]
  },
  {
   "cell_type": "code",
   "execution_count": 81,
   "id": "0f3fb14e",
   "metadata": {},
   "outputs": [],
   "source": [
    "def outer():\n",
    "    i=10\n",
    "    j=8\n",
    "    def inner():\n",
    "        print(i)\n",
    "        print(\"i am inner funtion\")\n",
    "    def inner2():\n",
    "        print(\"second inner\")\n",
    "    inner()\n",
    "    inner2()\n",
    "    return inner, inner2"
   ]
  },
  {
   "cell_type": "code",
   "execution_count": 82,
   "id": "5cbafb86",
   "metadata": {},
   "outputs": [
    {
     "name": "stdout",
     "output_type": "stream",
     "text": [
      "10\n",
      "i am inner funtion\n",
      "second inner\n"
     ]
    }
   ],
   "source": [
    "p = outer() "
   ]
  },
  {
   "cell_type": "code",
   "execution_count": 83,
   "id": "442836fb",
   "metadata": {},
   "outputs": [],
   "source": [
    "def outer(f):\n",
    "    def inner():\n",
    "        result=f()\n",
    "        return result ** 2\n",
    "    return inner  \n"
   ]
  },
  {
   "cell_type": "code",
   "execution_count": 84,
   "id": "b43d094f",
   "metadata": {},
   "outputs": [],
   "source": [
    "def num():\n",
    "    return 5  \n"
   ]
  },
  {
   "cell_type": "code",
   "execution_count": 85,
   "id": "4b862b98",
   "metadata": {},
   "outputs": [],
   "source": [
    "r = outer(num)   \n",
    "\n"
   ]
  },
  {
   "cell_type": "code",
   "execution_count": 86,
   "id": "32aa020d",
   "metadata": {},
   "outputs": [
    {
     "data": {
      "text/plain": [
       "<function __main__.outer.<locals>.inner()>"
      ]
     },
     "execution_count": 86,
     "metadata": {},
     "output_type": "execute_result"
    }
   ],
   "source": [
    "r  \n",
    "\n"
   ]
  },
  {
   "cell_type": "code",
   "execution_count": 87,
   "id": "c07e7ed2",
   "metadata": {},
   "outputs": [
    {
     "data": {
      "text/plain": [
       "25"
      ]
     },
     "execution_count": 87,
     "metadata": {},
     "output_type": "execute_result"
    }
   ],
   "source": [
    "r() "
   ]
  },
  {
   "cell_type": "code",
   "execution_count": 88,
   "id": "09e82051",
   "metadata": {},
   "outputs": [],
   "source": [
    "@outer\n",
    "def num():\n",
    "    return 5   "
   ]
  },
  {
   "cell_type": "code",
   "execution_count": 89,
   "id": "d35e3d12",
   "metadata": {},
   "outputs": [
    {
     "data": {
      "text/plain": [
       "25"
      ]
     },
     "execution_count": 89,
     "metadata": {},
     "output_type": "execute_result"
    }
   ],
   "source": [
    "num()\n",
    "\n"
   ]
  },
  {
   "cell_type": "code",
   "execution_count": 90,
   "id": "2e8d41f6",
   "metadata": {},
   "outputs": [],
   "source": [
    "def outer(f):\n",
    "    def inner(n1,n2):\n",
    "        result=f(n1,n2)\n",
    "        return result**2\n",
    "    return inner"
   ]
  },
  {
   "cell_type": "code",
   "execution_count": 91,
   "id": "06f09e15",
   "metadata": {},
   "outputs": [],
   "source": [
    "@outer\n",
    "def num(n1,n2):\n",
    "    return n1+n2+5\n",
    "\n"
   ]
  },
  {
   "cell_type": "code",
   "execution_count": 92,
   "id": "244dd0ba",
   "metadata": {},
   "outputs": [
    {
     "data": {
      "text/plain": [
       "784"
      ]
     },
     "execution_count": 92,
     "metadata": {},
     "output_type": "execute_result"
    }
   ],
   "source": [
    "num(19,4)"
   ]
  },
  {
   "cell_type": "code",
   "execution_count": 97,
   "id": "9a916cc8",
   "metadata": {},
   "outputs": [],
   "source": [
    "def validate(func):\n",
    "    def validator(*args, **kwargs):\n",
    "        if len(args)>1:\n",
    "            if args[1] == 0:\n",
    "                print(\"We are expecting non zero number\")\n",
    "                return None\n",
    "            else:\n",
    "                power= func(args[0],args[1])\n",
    "                return power\n",
    "        else:\n",
    "            print('invalid args')\n",
    "    return validator"
   ]
  },
  {
   "cell_type": "code",
   "execution_count": 94,
   "id": "f52d460a",
   "metadata": {},
   "outputs": [],
   "source": [
    "import math \n"
   ]
  },
  {
   "cell_type": "code",
   "execution_count": 99,
   "id": "d1c31aa5",
   "metadata": {},
   "outputs": [],
   "source": [
    "@validate\n",
    "def mypower(x, y):\n",
    "    return math.pow(x,y)"
   ]
  },
  {
   "cell_type": "code",
   "execution_count": null,
   "id": "16c9bd46",
   "metadata": {},
   "outputs": [],
   "source": []
  },
  {
   "cell_type": "code",
   "execution_count": 100,
   "id": "1c9f4092",
   "metadata": {},
   "outputs": [
    {
     "data": {
      "text/plain": [
       "100.0"
      ]
     },
     "execution_count": 100,
     "metadata": {},
     "output_type": "execute_result"
    }
   ],
   "source": [
    "mypower(10,2)"
   ]
  },
  {
   "cell_type": "code",
   "execution_count": 1,
   "id": "055fb974",
   "metadata": {},
   "outputs": [
    {
     "data": {
      "text/plain": [
       "[2, 4, 6, 8, 10]"
      ]
     },
     "execution_count": 1,
     "metadata": {},
     "output_type": "execute_result"
    }
   ],
   "source": [
    "list_1=[1,2,3,4,5,6,7,8,9,10]\n",
    "list(filter(lambda x: x%2==0, list_1))  "
   ]
  },
  {
   "cell_type": "code",
   "execution_count": 2,
   "id": "feb038ed",
   "metadata": {},
   "outputs": [
    {
     "data": {
      "text/plain": [
       "[1, 8, 27, 64, 125, 216, 343, 512, 729, 1000]"
      ]
     },
     "execution_count": 2,
     "metadata": {},
     "output_type": "execute_result"
    }
   ],
   "source": [
    "list_1=[1,2,3,4,5,6,7,8,9,10]\n",
    "list(map(lambda x: pow(x,3), list_1)) "
   ]
  },
  {
   "cell_type": "code",
   "execution_count": 3,
   "id": "2cd72792",
   "metadata": {},
   "outputs": [],
   "source": [
    "#general purpose decorator\n",
    "\n",
    "def a_decorator_passing_arbitary_arguments(funtion_to_decorate):\n",
    "    def a_wrapper_acceptng_arbitary_arguments(*args, **kwargs):\n",
    "        print(\"The positionla arguments are\", args)\n",
    "        print(\"The keyword argument are\", kwargs)\n",
    "        funtion_to_decorate(*args)\n",
    "    return a_wrapper_acceptng_arbitary_arguments\n",
    "\n",
    "\n",
    "@a_decorator_passing_arbitary_arguments\n",
    "def funtion_with_no_arguments():\n",
    "    print(\"No arguments here....\")   "
   ]
  },
  {
   "cell_type": "code",
   "execution_count": 4,
   "id": "8ef0e88d",
   "metadata": {},
   "outputs": [
    {
     "name": "stdout",
     "output_type": "stream",
     "text": [
      "The positionla arguments are ()\n",
      "The keyword argument are {}\n",
      "No arguments here....\n"
     ]
    }
   ],
   "source": [
    "funtion_with_no_arguments() "
   ]
  },
  {
   "cell_type": "code",
   "execution_count": 7,
   "id": "673fa702",
   "metadata": {},
   "outputs": [
    {
     "name": "stdout",
     "output_type": "stream",
     "text": [
      "Positional arguments are (10, 20, 30)\n",
      "The Keyword arguments are {}\n",
      "10 20 30\n"
     ]
    }
   ],
   "source": [
    "#passing positional arguments to decorators\n",
    "def accept_the_arguments(funtion_to_decorator):\n",
    "    def inner_funtion(*args,**kwargs):\n",
    "        print(\"Positional arguments are\", args)\n",
    "        print(\"The Keyword arguments are\", kwargs)\n",
    "        funtion_to_decorator(*args)\n",
    "    return inner_funtion\n",
    "\n",
    "@accept_the_arguments\n",
    "def funtion_with_args(a,b,c):\n",
    "    print(a,b,c)\n",
    "funtion_with_args(10,20,30)  "
   ]
  },
  {
   "cell_type": "code",
   "execution_count": 8,
   "id": "14005b4a",
   "metadata": {},
   "outputs": [],
   "source": [
    "#passing kwargs based arguments\n",
    "\n",
    "def accepting_kwargs(funtion_to_decorator):\n",
    "    def inner_funtion(*args,**kwargs):\n",
    "        print(\"args values\",args)\n",
    "        print(\"positional args\", kwargs)\n",
    "        funtion_to_decorator(args, kwargs)\n",
    "    return inner_funtion\n",
    "\n",
    "@accepting_kwargs\n",
    "def funtion_with_args(*args,**kwargs):\n",
    "    print(\"Inside funtion args\",args)\n",
    "    print(\"Kwargs...\", kwargs)  "
   ]
  },
  {
   "cell_type": "code",
   "execution_count": 9,
   "id": "d6cd7fb1",
   "metadata": {},
   "outputs": [
    {
     "name": "stdout",
     "output_type": "stream",
     "text": [
      "args values (1, 2, 3)\n",
      "positional args {'name': 'Aditya', 'address': 'Pune'}\n",
      "Inside funtion args ((1, 2, 3), {'name': 'Aditya', 'address': 'Pune'})\n",
      "Kwargs... {}\n"
     ]
    }
   ],
   "source": [
    "funtion_with_args(1,2,3,name=\"Aditya\",address=\"Pune\")  "
   ]
  },
  {
   "cell_type": "code",
   "execution_count": 11,
   "id": "06d21274",
   "metadata": {},
   "outputs": [],
   "source": [
    "#passing kwargs based arguments\n",
    "\n",
    "def accepting_kwargs(funtion_to_decorator):\n",
    "    def inner_funtion(*args,**kwargs):\n",
    "        print(\"args values\",args)\n",
    "        print(\"positional args\", kwargs)\n",
    "        #Custom logic based funtions with args\n",
    "        funtion_to_decorator(*args,**kwargs)\n",
    "    return inner_funtion\n",
    "\n",
    "@accepting_kwargs\n",
    "def funtion_with_args(*args,**kwargs):\n",
    "    print(\"Inside funtion args\",args)\n",
    "    print(\"Kwargs...\", kwargs)  "
   ]
  },
  {
   "cell_type": "code",
   "execution_count": 12,
   "id": "b232f570",
   "metadata": {},
   "outputs": [
    {
     "name": "stdout",
     "output_type": "stream",
     "text": [
      "args values (1, 2)\n",
      "positional args {'name': 'Aditya', 'address': 'Pune'}\n",
      "Inside funtion args (1, 2)\n",
      "Kwargs... {'name': 'Aditya', 'address': 'Pune'}\n"
     ]
    }
   ],
   "source": [
    "funtion_with_args(1,2,name=\"Aditya\", address=\"Pune\") "
   ]
  },
  {
   "cell_type": "code",
   "execution_count": 13,
   "id": "25a8bfff",
   "metadata": {},
   "outputs": [],
   "source": [
    "#passing arguments to decorator"
   ]
  },
  {
   "cell_type": "code",
   "execution_count": 18,
   "id": "b0bb58c2",
   "metadata": {},
   "outputs": [],
   "source": [
    "def decorator_with_args(decorator_args1,decorator_args2,decorator_args3):\n",
    "    def decorator(func):\n",
    "        def wrapper(function_args1,function_args2,function_args3):\n",
    "            print(\"The wrapper can access all the variable\\n\"\n",
    "                 \"\\t from the decorator maker:{0}{1} {2}\\n\"\n",
    "                  \"\\t from the funtion call:{3} {4} {5}\\n\"\n",
    "                  \"and pass them into decorator funtion\".format(decorator_args1,decorator_args2,\n",
    "                                                                decorator_args3,\n",
    "                                                                function_args1,\n",
    "                                                                function_args2,\n",
    "                                                                function_args3\n",
    "                                                               ))\n",
    "            return func(function_args1, function_args2,function_args3)\n",
    "        return wrapper\n",
    "    return decorator\n",
    "pandas=\"Pandas\"\n",
    "@decorator_with_args(pandas,\"Numpy\",\"Sciki_learn\")\n",
    "def actual_funtion(function_args1,function_args2,function_args3):\n",
    "    print(\"This is decorated funtion and it only khows about its args:{0},{1},{2}\".format(\n",
    "    function_args1, function_args2,function_args3))  \n",
    "    \n",
    "    "
   ]
  },
  {
   "cell_type": "code",
   "execution_count": 17,
   "id": "0816fe9c",
   "metadata": {},
   "outputs": [
    {
     "name": "stdout",
     "output_type": "stream",
     "text": [
      "The wrapper can access all the variable\n",
      "\t from the decorator maker:PandasNumpy Sciki_learn\n",
      "\t from the funtion call:John Science Tools\n",
      "and pass them into decorator funtion\n"
     ]
    },
    {
     "ename": "NameError",
     "evalue": "name 'fun' is not defined",
     "output_type": "error",
     "traceback": [
      "\u001b[1;31m---------------------------------------------------------------------------\u001b[0m",
      "\u001b[1;31mNameError\u001b[0m                                 Traceback (most recent call last)",
      "\u001b[1;32m~\\AppData\\Local\\Temp/ipykernel_10948/432321043.py\u001b[0m in \u001b[0;36m<module>\u001b[1;34m\u001b[0m\n\u001b[1;32m----> 1\u001b[1;33m \u001b[0mactual_funtion\u001b[0m\u001b[1;33m(\u001b[0m\u001b[1;34m\"John\"\u001b[0m\u001b[1;33m,\u001b[0m\u001b[1;34m\"Science\"\u001b[0m\u001b[1;33m,\u001b[0m\u001b[1;34m\"Tools\"\u001b[0m\u001b[1;33m)\u001b[0m\u001b[1;33m\u001b[0m\u001b[1;33m\u001b[0m\u001b[0m\n\u001b[0m",
      "\u001b[1;32m~\\AppData\\Local\\Temp/ipykernel_10948/817293666.py\u001b[0m in \u001b[0;36mwrapper\u001b[1;34m(funtion_args1, funtion_args2, funtion_args3)\u001b[0m\n\u001b[0;32m     11\u001b[0m                                                                 \u001b[0mfuntion_args3\u001b[0m\u001b[1;33m\u001b[0m\u001b[1;33m\u001b[0m\u001b[0m\n\u001b[0;32m     12\u001b[0m                                                                ))\n\u001b[1;32m---> 13\u001b[1;33m             \u001b[1;32mreturn\u001b[0m \u001b[0mfun\u001b[0m\u001b[1;33m(\u001b[0m\u001b[0mfuntion_args1\u001b[0m\u001b[1;33m,\u001b[0m \u001b[0mfuntion_args2\u001b[0m\u001b[1;33m,\u001b[0m\u001b[0mfuntion_args3\u001b[0m\u001b[1;33m)\u001b[0m\u001b[1;33m\u001b[0m\u001b[1;33m\u001b[0m\u001b[0m\n\u001b[0m\u001b[0;32m     14\u001b[0m         \u001b[1;32mreturn\u001b[0m \u001b[0mwrapper\u001b[0m\u001b[1;33m\u001b[0m\u001b[1;33m\u001b[0m\u001b[0m\n\u001b[0;32m     15\u001b[0m     \u001b[1;32mreturn\u001b[0m \u001b[0mdecorator\u001b[0m\u001b[1;33m\u001b[0m\u001b[1;33m\u001b[0m\u001b[0m\n",
      "\u001b[1;31mNameError\u001b[0m: name 'fun' is not defined"
     ]
    }
   ],
   "source": [
    "actual_funtion(\"John\",\"Science\",\"Tools\")   "
   ]
  },
  {
   "cell_type": "code",
   "execution_count": 19,
   "id": "301c528e",
   "metadata": {},
   "outputs": [],
   "source": [
    "def decorator_with_args(decorator_args1,decorator_args2,decorator_args3):\n",
    "    def decorator(func):\n",
    "        def wrapper(function_args1,function_args2,function_args3):\n",
    "            print(\"The wrapper can access all the variable\\n\"\n",
    "                 \"\\t from the decorator maker:{0}{1} {2}\\n\"\n",
    "                  \"\\t from the funtion call:{3} {4} {5}\\n\"\n",
    "                  \"and pass them into decorator funtion\".format(decorator_args1,decorator_args2,\n",
    "                                                                decorator_args3,\n",
    "                                                                function_args1,\n",
    "                                                                function_args2,\n",
    "                                                                function_args3\n",
    "                                                               ))\n",
    "            return func(function_args1, function_args2,function_args3)\n",
    "        return wrapper\n",
    "    return decorator\n",
    "pandas=\"Pandas\"\n",
    "@decorator_with_args(pandas,\"Numpy\",\"Sciki_learn\")\n",
    "def actual_funtion(function_args1,function_args2,function_args3):\n",
    "    print(\"This is decorated funtion and it only khows about its args:{0},{1},{2}\".format(\n",
    "    function_args1, function_args2,function_args3))  "
   ]
  },
  {
   "cell_type": "code",
   "execution_count": 20,
   "id": "eab9aca8",
   "metadata": {},
   "outputs": [
    {
     "name": "stdout",
     "output_type": "stream",
     "text": [
      "The wrapper can access all the variable\n",
      "\t from the decorator maker:PandasNumpy Sciki_learn\n",
      "\t from the funtion call:John Science Tools\n",
      "and pass them into decorator funtion\n",
      "This is decorated funtion and it only khows about its args:John,Science,Tools\n"
     ]
    }
   ],
   "source": [
    "actual_funtion(\"John\",\"Science\",\"Tools\") "
   ]
  },
  {
   "cell_type": "code",
   "execution_count": 22,
   "id": "bd6fe1c3",
   "metadata": {},
   "outputs": [
    {
     "name": "stdout",
     "output_type": "stream",
     "text": [
      "Enter num788888\n",
      "6\n"
     ]
    }
   ],
   "source": [
    "num = int(input(\"Enter num\"))\n",
    "print(len(str(num))) "
   ]
  },
  {
   "cell_type": "code",
   "execution_count": 23,
   "id": "3beab083",
   "metadata": {},
   "outputs": [
    {
     "name": "stdout",
     "output_type": "stream",
     "text": [
      "Enter num87896\n",
      "5\n"
     ]
    }
   ],
   "source": [
    "def count_digits(n):\n",
    "    n = str(n)\n",
    "    return len(n)\n",
    " \n",
    "n = int(input(\"Enter num\"))\n",
    "print(count_digits(n)) "
   ]
  },
  {
   "cell_type": "code",
   "execution_count": 25,
   "id": "3efaa6ab",
   "metadata": {},
   "outputs": [],
   "source": [
    "# chaining decorator\n",
    "from functools import wraps\n",
    "#Code for testing decorator chaining\n",
    "\n",
    "def decor2(func):\n",
    "    def inner():\n",
    "        x = func()\n",
    "        print(\"X in decor2\",x)\n",
    "        return x+x  #Logic doing add\n",
    "    return inner\n",
    "\n",
    "def decor1(func):\n",
    "    def inner():\n",
    "        x = func()\n",
    "        print(\"X in decor1\",x)\n",
    "        return x*x  #Logic doing mul\n",
    "    return inner\n",
    "\n",
    "def decor(func):\n",
    "    def inner():\n",
    "        x = func()\n",
    "        print(\"X in decor lst...\",x)\n",
    "        return 2*x # multiple with 2\n",
    "    return inner\n",
    "\n",
    "@decor2\n",
    "@decor1\n",
    "@decor\n",
    "def num():\n",
    "    return 10  \n"
   ]
  },
  {
   "cell_type": "code",
   "execution_count": 26,
   "id": "70e51530",
   "metadata": {},
   "outputs": [
    {
     "name": "stdout",
     "output_type": "stream",
     "text": [
      "X in decor lst... 10\n",
      "X in decor2 20\n"
     ]
    },
    {
     "data": {
      "text/plain": [
       "400"
      ]
     },
     "execution_count": 26,
     "metadata": {},
     "output_type": "execute_result"
    }
   ],
   "source": [
    "num()"
   ]
  },
  {
   "cell_type": "code",
   "execution_count": 27,
   "id": "3adb626b",
   "metadata": {},
   "outputs": [],
   "source": [
    "def decor2(func):\n",
    "    def inner():\n",
    "        x = func()\n",
    "        print(\"X in decor2\",x)\n",
    "        return x+x  #Logic doing add\n",
    "    return inner\n",
    "\n",
    "def decor1(func):\n",
    "    def inner():\n",
    "        x = func()\n",
    "        print(\"X in decor1\",x)\n",
    "        return x*x  #Logic doing mul\n",
    "    return inner\n",
    "\n",
    "def decor(func):\n",
    "    def inner():\n",
    "        x = func()\n",
    "        print(\"X in decor lst...\",x)\n",
    "        return 2*x # multiple with 2\n",
    "    return inner\n",
    "\n",
    "@decor2\n",
    "@decor1\n",
    "@decor\n",
    "def num():\n",
    "    return 10  "
   ]
  },
  {
   "cell_type": "code",
   "execution_count": 28,
   "id": "78122f56",
   "metadata": {},
   "outputs": [
    {
     "name": "stdout",
     "output_type": "stream",
     "text": [
      "X in decor lst... 10\n",
      "X in decor1 20\n",
      "X in decor2 400\n"
     ]
    },
    {
     "data": {
      "text/plain": [
       "800"
      ]
     },
     "execution_count": 28,
     "metadata": {},
     "output_type": "execute_result"
    }
   ],
   "source": [
    "num()"
   ]
  },
  {
   "cell_type": "code",
   "execution_count": 29,
   "id": "799c9cf5",
   "metadata": {},
   "outputs": [
    {
     "name": "stdout",
     "output_type": "stream",
     "text": [
      "Hi\n",
      "Hello\n"
     ]
    },
    {
     "data": {
      "text/plain": [
       "'hello'"
      ]
     },
     "execution_count": 29,
     "metadata": {},
     "output_type": "execute_result"
    }
   ],
   "source": [
    "def simple_fun():\n",
    "    print(\"Hi\")\n",
    "    print(\"Hello\")\n",
    "    return 'hello'\n",
    "simple_fun()"
   ]
  },
  {
   "cell_type": "code",
   "execution_count": 30,
   "id": "55bb9abd",
   "metadata": {},
   "outputs": [
    {
     "data": {
      "text/plain": [
       "function"
      ]
     },
     "execution_count": 30,
     "metadata": {},
     "output_type": "execute_result"
    }
   ],
   "source": [
    "type(simple_fun)"
   ]
  },
  {
   "cell_type": "code",
   "execution_count": 31,
   "id": "61f67369",
   "metadata": {},
   "outputs": [],
   "source": [
    "def simple_generator():\n",
    "    print(\"Hi\")\n",
    "    yield 'hello'\n",
    "    x = 10\n",
    "    y = x+5\n",
    "    print(y)\n",
    "    yield \"Hello world\"\n",
    "    yield x "
   ]
  },
  {
   "cell_type": "code",
   "execution_count": 32,
   "id": "aee8bdca",
   "metadata": {},
   "outputs": [
    {
     "data": {
      "text/plain": [
       "<generator object simple_generator at 0x000002ABFC619430>"
      ]
     },
     "execution_count": 32,
     "metadata": {},
     "output_type": "execute_result"
    }
   ],
   "source": [
    "ret = simple_generator()\n",
    "ret "
   ]
  },
  {
   "cell_type": "code",
   "execution_count": 33,
   "id": "3b82b8ef",
   "metadata": {},
   "outputs": [
    {
     "name": "stdout",
     "output_type": "stream",
     "text": [
      "Hi\n",
      "hello\n",
      "15\n",
      "Hello world\n",
      "10\n"
     ]
    }
   ],
   "source": [
    "for val in ret:\n",
    "    print(val)"
   ]
  },
  {
   "cell_type": "code",
   "execution_count": 35,
   "id": "81a1a134",
   "metadata": {},
   "outputs": [
    {
     "data": {
      "text/plain": [
       "[]"
      ]
     },
     "execution_count": 35,
     "metadata": {},
     "output_type": "execute_result"
    }
   ],
   "source": [
    "list(ret)"
   ]
  },
  {
   "cell_type": "code",
   "execution_count": 37,
   "id": "cba21c72",
   "metadata": {},
   "outputs": [
    {
     "data": {
      "text/plain": [
       "[]"
      ]
     },
     "execution_count": 37,
     "metadata": {},
     "output_type": "execute_result"
    }
   ],
   "source": [
    "list(ret)"
   ]
  },
  {
   "cell_type": "code",
   "execution_count": 41,
   "id": "1d295258",
   "metadata": {},
   "outputs": [],
   "source": [
    "def fib(n):\n",
    "    numbers = []\n",
    "    first,second = 0,1\n",
    "    while first<n:\n",
    "        numbers.append(first)\n",
    "        first,second = second, first+second\n",
    "    print(numbers)"
   ]
  },
  {
   "cell_type": "code",
   "execution_count": 42,
   "id": "4fb97a4d",
   "metadata": {},
   "outputs": [
    {
     "name": "stdout",
     "output_type": "stream",
     "text": [
      "[0, 1, 1, 2, 3, 5, 8]\n"
     ]
    }
   ],
   "source": [
    "fib(10)"
   ]
  },
  {
   "cell_type": "code",
   "execution_count": 43,
   "id": "d9aded95",
   "metadata": {},
   "outputs": [],
   "source": [
    "def fib(n):\n",
    "    first,second = 0,1\n",
    "    while n:\n",
    "        yield first\n",
    "        first,second = second, first+second\n",
    "        n-=1"
   ]
  },
  {
   "cell_type": "code",
   "execution_count": 44,
   "id": "2d825b9b",
   "metadata": {},
   "outputs": [],
   "source": [
    "ret = fib(50)"
   ]
  },
  {
   "cell_type": "code",
   "execution_count": 45,
   "id": "e5a60aeb",
   "metadata": {},
   "outputs": [
    {
     "data": {
      "text/plain": [
       "<generator object fib at 0x000002ABFC640580>"
      ]
     },
     "execution_count": 45,
     "metadata": {},
     "output_type": "execute_result"
    }
   ],
   "source": [
    "ret"
   ]
  },
  {
   "cell_type": "code",
   "execution_count": 46,
   "id": "c4182115",
   "metadata": {},
   "outputs": [
    {
     "data": {
      "text/plain": [
       "0"
      ]
     },
     "execution_count": 46,
     "metadata": {},
     "output_type": "execute_result"
    }
   ],
   "source": [
    "next(ret)"
   ]
  },
  {
   "cell_type": "code",
   "execution_count": 47,
   "id": "2064c0ef",
   "metadata": {},
   "outputs": [
    {
     "data": {
      "text/plain": [
       "1"
      ]
     },
     "execution_count": 47,
     "metadata": {},
     "output_type": "execute_result"
    }
   ],
   "source": [
    "next(ret)"
   ]
  },
  {
   "cell_type": "code",
   "execution_count": 48,
   "id": "23aa18ed",
   "metadata": {},
   "outputs": [
    {
     "data": {
      "text/plain": [
       "[1,\n",
       " 2,\n",
       " 3,\n",
       " 5,\n",
       " 8,\n",
       " 13,\n",
       " 21,\n",
       " 34,\n",
       " 55,\n",
       " 89,\n",
       " 144,\n",
       " 233,\n",
       " 377,\n",
       " 610,\n",
       " 987,\n",
       " 1597,\n",
       " 2584,\n",
       " 4181,\n",
       " 6765,\n",
       " 10946,\n",
       " 17711,\n",
       " 28657,\n",
       " 46368,\n",
       " 75025,\n",
       " 121393,\n",
       " 196418,\n",
       " 317811,\n",
       " 514229,\n",
       " 832040,\n",
       " 1346269,\n",
       " 2178309,\n",
       " 3524578,\n",
       " 5702887,\n",
       " 9227465,\n",
       " 14930352,\n",
       " 24157817,\n",
       " 39088169,\n",
       " 63245986,\n",
       " 102334155,\n",
       " 165580141,\n",
       " 267914296,\n",
       " 433494437,\n",
       " 701408733,\n",
       " 1134903170,\n",
       " 1836311903,\n",
       " 2971215073,\n",
       " 4807526976,\n",
       " 7778742049]"
      ]
     },
     "execution_count": 48,
     "metadata": {},
     "output_type": "execute_result"
    }
   ],
   "source": [
    "list(ret)"
   ]
  },
  {
   "cell_type": "code",
   "execution_count": 49,
   "id": "97ab7bcf",
   "metadata": {},
   "outputs": [],
   "source": [
    "import random\n",
    "name = [\"Akshay\", \"John\", \"ale\", \"fred\"]"
   ]
  },
  {
   "cell_type": "code",
   "execution_count": 50,
   "id": "11519be9",
   "metadata": {},
   "outputs": [],
   "source": [
    "designations = [\"mgr\", \"se\", \"sse\", \"admin\", \"hr\", \"fin\"]\n",
    "def people_list():\n",
    "    people = []\n",
    "    for i in range(1000000):\n",
    "        person = {\"id\":1, \"name\":random.choice(name),\n",
    "                 \"designations\":random.choice(designations)}\n",
    "        people.append(person)\n",
    "    return people\n",
    "def people_generator():\n",
    "    for i in range(1000000):\n",
    "        person = {\"id\":1, \"name\":random.choice(name),\n",
    "                 \"designations\":random.choice(designations)}\n",
    "        people.append(person)\n",
    "    yield people \n",
    "    "
   ]
  },
  {
   "cell_type": "code",
   "execution_count": 55,
   "id": "70c7be05",
   "metadata": {},
   "outputs": [
    {
     "data": {
      "text/plain": [
       "[{'id': 1, 'name': 'Akshay', 'designations': 'sse'},\n",
       " {'id': 1, 'name': 'ale', 'designations': 'hr'}]"
      ]
     },
     "execution_count": 55,
     "metadata": {},
     "output_type": "execute_result"
    }
   ],
   "source": [
    "p = people_list()\n",
    "p[:2] "
   ]
  },
  {
   "cell_type": "code",
   "execution_count": 52,
   "id": "e6c62131",
   "metadata": {},
   "outputs": [],
   "source": [
    "import random\n",
    "name = [\"Akshay\", \"John\", \"ale\", \"fred\"]\n",
    "designations = [\"mgr\", \"se\", \"sse\", \"admin\", \"hr\", \"fin\"]\n",
    "def people_list():\n",
    "    people = []\n",
    "    for i in range(1000000):\n",
    "        person = {\"id\":1, \"name\":random.choice(name),\n",
    "                 \"designations\":random.choice(designations)}\n",
    "        people.append(person)\n",
    "    return people\n",
    "def people_generator():\n",
    "    for i in range(1000000):\n",
    "        person = {\"id\":1, \"name\":random.choice(name),\n",
    "                 \"designations\":random.choice(designations)}\n",
    "        people.append(person)\n",
    "    yield people \n",
    "    "
   ]
  },
  {
   "cell_type": "code",
   "execution_count": 53,
   "id": "c6dd4420",
   "metadata": {},
   "outputs": [
    {
     "data": {
      "text/plain": [
       "[{'id': 1, 'name': 'Akshay', 'designations': 'se'},\n",
       " {'id': 1, 'name': 'fred', 'designations': 'sse'}]"
      ]
     },
     "execution_count": 53,
     "metadata": {},
     "output_type": "execute_result"
    }
   ],
   "source": [
    "p = people_list()\n",
    "p[:2] "
   ]
  },
  {
   "cell_type": "code",
   "execution_count": 54,
   "id": "049689e8",
   "metadata": {},
   "outputs": [
    {
     "data": {
      "text/plain": [
       "<generator object people_generator at 0x000002ABFC640F20>"
      ]
     },
     "execution_count": 54,
     "metadata": {},
     "output_type": "execute_result"
    }
   ],
   "source": [
    "ret = people_generator()\n",
    "ret "
   ]
  },
  {
   "cell_type": "code",
   "execution_count": 57,
   "id": "99cbf9d9",
   "metadata": {},
   "outputs": [],
   "source": [
    "#write the custom generator funtion  like range\n",
    "\n",
    "def frange(start,stop, increment):\n",
    "    x = start\n",
    "    while x< stop:\n",
    "        yield x\n",
    "        x +=increment"
   ]
  },
  {
   "cell_type": "code",
   "execution_count": 58,
   "id": "85e496f1",
   "metadata": {},
   "outputs": [
    {
     "name": "stdout",
     "output_type": "stream",
     "text": [
      "<class 'generator'>\n",
      "0\n",
      "0.5\n",
      "1.0\n",
      "1.5\n",
      "2.0\n",
      "2.5\n",
      "3.0\n",
      "3.5\n"
     ]
    }
   ],
   "source": [
    "c = frange(0,4,0.5)\n",
    "print(type(c))\n",
    "\n",
    "for n in frange(0,4,0.5):\n",
    "    print(n)"
   ]
  },
  {
   "cell_type": "code",
   "execution_count": 59,
   "id": "3bba2788",
   "metadata": {},
   "outputs": [],
   "source": [
    "def countdown(n):\n",
    "    print(\"starting to count from\", n)\n",
    "    while n >=0:\n",
    "        yield n\n",
    "        n-=1\n",
    "    print(\"done\")"
   ]
  },
  {
   "cell_type": "code",
   "execution_count": 60,
   "id": "d8e374e7",
   "metadata": {},
   "outputs": [],
   "source": [
    "c = countdown(3)"
   ]
  },
  {
   "cell_type": "code",
   "execution_count": 61,
   "id": "3ba6a8c0",
   "metadata": {},
   "outputs": [
    {
     "name": "stdout",
     "output_type": "stream",
     "text": [
      "starting to count from 3\n"
     ]
    },
    {
     "data": {
      "text/plain": [
       "3"
      ]
     },
     "execution_count": 61,
     "metadata": {},
     "output_type": "execute_result"
    }
   ],
   "source": [
    "next(c)"
   ]
  },
  {
   "cell_type": "code",
   "execution_count": 62,
   "id": "aabc6a43",
   "metadata": {},
   "outputs": [
    {
     "data": {
      "text/plain": [
       "2"
      ]
     },
     "execution_count": 62,
     "metadata": {},
     "output_type": "execute_result"
    }
   ],
   "source": [
    "next(c)"
   ]
  },
  {
   "cell_type": "code",
   "execution_count": 63,
   "id": "2244a263",
   "metadata": {},
   "outputs": [
    {
     "data": {
      "text/plain": [
       "1"
      ]
     },
     "execution_count": 63,
     "metadata": {},
     "output_type": "execute_result"
    }
   ],
   "source": [
    "next(c)"
   ]
  },
  {
   "cell_type": "code",
   "execution_count": 64,
   "id": "18519bea",
   "metadata": {},
   "outputs": [
    {
     "data": {
      "text/plain": [
       "0"
      ]
     },
     "execution_count": 64,
     "metadata": {},
     "output_type": "execute_result"
    }
   ],
   "source": [
    "next(c)"
   ]
  },
  {
   "cell_type": "code",
   "execution_count": 65,
   "id": "854ef154",
   "metadata": {},
   "outputs": [
    {
     "name": "stdout",
     "output_type": "stream",
     "text": [
      "done\n"
     ]
    },
    {
     "data": {
      "text/plain": [
       "[]"
      ]
     },
     "execution_count": 65,
     "metadata": {},
     "output_type": "execute_result"
    }
   ],
   "source": [
    "list(c)"
   ]
  },
  {
   "cell_type": "code",
   "execution_count": 66,
   "id": "a14758a9",
   "metadata": {},
   "outputs": [
    {
     "data": {
      "text/plain": [
       "[]"
      ]
     },
     "execution_count": 66,
     "metadata": {},
     "output_type": "execute_result"
    }
   ],
   "source": [
    "list(c)"
   ]
  },
  {
   "cell_type": "code",
   "execution_count": 67,
   "id": "1d4b942b",
   "metadata": {},
   "outputs": [
    {
     "ename": "StopIteration",
     "evalue": "",
     "output_type": "error",
     "traceback": [
      "\u001b[1;31m---------------------------------------------------------------------------\u001b[0m",
      "\u001b[1;31mStopIteration\u001b[0m                             Traceback (most recent call last)",
      "\u001b[1;32m~\\AppData\\Local\\Temp/ipykernel_10948/1173204873.py\u001b[0m in \u001b[0;36m<module>\u001b[1;34m\u001b[0m\n\u001b[1;32m----> 1\u001b[1;33m \u001b[0mnext\u001b[0m\u001b[1;33m(\u001b[0m\u001b[0mc\u001b[0m\u001b[1;33m)\u001b[0m\u001b[1;33m\u001b[0m\u001b[1;33m\u001b[0m\u001b[0m\n\u001b[0m",
      "\u001b[1;31mStopIteration\u001b[0m: "
     ]
    }
   ],
   "source": [
    "next(c)"
   ]
  },
  {
   "cell_type": "code",
   "execution_count": 68,
   "id": "12f2538d",
   "metadata": {},
   "outputs": [
    {
     "data": {
      "text/plain": [
       "[]"
      ]
     },
     "execution_count": 68,
     "metadata": {},
     "output_type": "execute_result"
    }
   ],
   "source": [
    "list(c)"
   ]
  },
  {
   "cell_type": "code",
   "execution_count": 69,
   "id": "efe647f7",
   "metadata": {},
   "outputs": [
    {
     "name": "stdout",
     "output_type": "stream",
     "text": [
      "5\n",
      "4\n",
      "3\n",
      "2\n",
      "1\n"
     ]
    }
   ],
   "source": [
    "a = [1,2,3,4,5]\n",
    "for x in reversed(a):\n",
    "    print(x)\n"
   ]
  },
  {
   "cell_type": "code",
   "execution_count": 70,
   "id": "ffe0908d",
   "metadata": {},
   "outputs": [
    {
     "name": "stdout",
     "output_type": "stream",
     "text": [
      "('a', 'b', 'c')\n",
      "('a', 'c', 'b')\n",
      "('b', 'a', 'c')\n",
      "('b', 'c', 'a')\n",
      "('c', 'a', 'b')\n",
      "('c', 'b', 'a')\n"
     ]
    }
   ],
   "source": [
    "items = ['a','b','c']\n",
    "from itertools import permutations\n",
    "for p in permutations(items):\n",
    "    print(p)"
   ]
  },
  {
   "cell_type": "code",
   "execution_count": 71,
   "id": "93703519",
   "metadata": {},
   "outputs": [
    {
     "name": "stdout",
     "output_type": "stream",
     "text": [
      "('a', 'b', 'c')\n"
     ]
    }
   ],
   "source": [
    "from itertools import combinations\n",
    "for c in combinations(items,3):\n",
    "    print(c)"
   ]
  },
  {
   "cell_type": "code",
   "execution_count": 72,
   "id": "003cf1e6",
   "metadata": {},
   "outputs": [
    {
     "name": "stdout",
     "output_type": "stream",
     "text": [
      "('a', 'b')\n",
      "('a', 'c')\n",
      "('b', 'c')\n"
     ]
    }
   ],
   "source": [
    "from itertools import combinations\n",
    "for c in combinations(items,2):\n",
    "    print(c)"
   ]
  },
  {
   "cell_type": "code",
   "execution_count": 73,
   "id": "e186e382",
   "metadata": {},
   "outputs": [
    {
     "name": "stdout",
     "output_type": "stream",
     "text": [
      "('a', 'b')\n",
      "('a', 'c')\n",
      "('a', 'd')\n",
      "('a', 'e')\n",
      "('b', 'c')\n",
      "('b', 'd')\n",
      "('b', 'e')\n",
      "('c', 'd')\n",
      "('c', 'e')\n",
      "('d', 'e')\n"
     ]
    }
   ],
   "source": [
    "items_1 = ['a','b','c','d','e']\n",
    "from itertools import combinations\n",
    "for c in combinations(items_1,2):\n",
    "    print(c)"
   ]
  },
  {
   "cell_type": "code",
   "execution_count": 74,
   "id": "e577591e",
   "metadata": {},
   "outputs": [
    {
     "name": "stdout",
     "output_type": "stream",
     "text": [
      "0 a\n",
      "1 b\n",
      "2 c\n"
     ]
    }
   ],
   "source": [
    "#enumerate to the track of sequence and element in terms of index and value\n",
    "\n",
    "mylist=['a','b','c']\n",
    "for idx, val in enumerate(mylist):\n",
    "    print(idx,val)"
   ]
  },
  {
   "cell_type": "code",
   "execution_count": 75,
   "id": "9305e880",
   "metadata": {},
   "outputs": [
    {
     "name": "stdout",
     "output_type": "stream",
     "text": [
      "1 a\n",
      "2 b\n",
      "3 c\n"
     ]
    }
   ],
   "source": [
    "for idx,val in enumerate(mylist,1):\n",
    "    print(idx,val)"
   ]
  },
  {
   "cell_type": "code",
   "execution_count": 77,
   "id": "61d7b889",
   "metadata": {},
   "outputs": [
    {
     "name": "stdout",
     "output_type": "stream",
     "text": [
      "1 101\n",
      "2 102\n",
      "3 103\n",
      "4 104\n",
      "5 105\n"
     ]
    }
   ],
   "source": [
    "#ZIP iterator\n",
    "x = [1,2,3,4,5]\n",
    "y = [101,102,103,104,105]\n",
    "\n",
    "for i,j in zip(x,y):\n",
    "    print(i,j)"
   ]
  },
  {
   "cell_type": "code",
   "execution_count": 78,
   "id": "c457d8be",
   "metadata": {},
   "outputs": [
    {
     "name": "stdout",
     "output_type": "stream",
     "text": [
      "{1: 101, 2: 102, 3: 103, 4: 104, 5: 105}\n"
     ]
    }
   ],
   "source": [
    "#ZIP iterator\n",
    "x = [1,2,3,4,5]\n",
    "y = [101,102,103,104,105]\n",
    "d = {}\n",
    "for i,j in zip(x,y):\n",
    "    d[i] = j\n",
    "print(d)"
   ]
  },
  {
   "cell_type": "code",
   "execution_count": 79,
   "id": "d238fbe8",
   "metadata": {},
   "outputs": [
    {
     "name": "stdout",
     "output_type": "stream",
     "text": [
      "(1, 'w')\n",
      "(2, 'x')\n",
      "(3, 'y')\n"
     ]
    }
   ],
   "source": [
    "a = [1,2,3]\n",
    "b = ['w','x','y','z']\n",
    "for i in zip(a,b):\n",
    "    print(i)\n",
    "     "
   ]
  },
  {
   "cell_type": "code",
   "execution_count": 80,
   "id": "eb5a96cd",
   "metadata": {},
   "outputs": [
    {
     "name": "stdout",
     "output_type": "stream",
     "text": [
      "(1, 'w')\n",
      "(2, 'x')\n",
      "(3, 'y')\n",
      "(None, 'z')\n"
     ]
    }
   ],
   "source": [
    "from itertools import zip_longest\n",
    "for i in zip_longest(a,b):\n",
    "    print(i)"
   ]
  },
  {
   "cell_type": "code",
   "execution_count": 81,
   "id": "0ff74e21",
   "metadata": {},
   "outputs": [
    {
     "name": "stdout",
     "output_type": "stream",
     "text": [
      "(1, 'w', 10)\n",
      "(2, 'x', 11)\n",
      "(3, 'y', 12)\n"
     ]
    }
   ],
   "source": [
    "a = [1,2,3]\n",
    "b = ['w','x','y']\n",
    "c = [10,11,12]\n",
    "for i in zip(a,b,c):\n",
    "    print(i)"
   ]
  },
  {
   "cell_type": "code",
   "execution_count": 82,
   "id": "f1a96c05",
   "metadata": {},
   "outputs": [
    {
     "name": "stdout",
     "output_type": "stream",
     "text": [
      "1\n",
      "2\n",
      "3\n",
      "w\n",
      "x\n",
      "y\n",
      "10\n",
      "11\n",
      "12\n"
     ]
    }
   ],
   "source": [
    "from itertools import chain\n",
    "for x in chain(a,b,c):\n",
    "    print(x)"
   ]
  },
  {
   "cell_type": "code",
   "execution_count": 86,
   "id": "59e06d91",
   "metadata": {},
   "outputs": [],
   "source": [
    "# flattening the neste sequence\n",
    "from collections import Iterable\n",
    "def flatten(items,ignore_types = (str, bytes)):\n",
    "    for x in items:\n",
    "        if isinstance(x,Iterable) and not isinstance(x,ignore_types):\n",
    "            yield from flatten(x)\n",
    "        else:\n",
    "            yield x"
   ]
  },
  {
   "cell_type": "code",
   "execution_count": 88,
   "id": "77f84deb",
   "metadata": {},
   "outputs": [
    {
     "name": "stdout",
     "output_type": "stream",
     "text": [
      "1\n",
      "2\n",
      "3\n",
      "4\n",
      "5\n",
      "6\n",
      "7\n",
      "8\n"
     ]
    }
   ],
   "source": [
    "items = [1,2,[3,4,[5,6],7], 8 ]\n",
    "for x in flatten(items):\n",
    "    print(x)"
   ]
  },
  {
   "cell_type": "code",
   "execution_count": 89,
   "id": "eca5a8cb",
   "metadata": {},
   "outputs": [
    {
     "name": "stdout",
     "output_type": "stream",
     "text": [
      "john\n",
      "ale\n",
      "fred\n",
      "tom\n"
     ]
    }
   ],
   "source": [
    "items = ['john',['ale', 'fred'],'tom']\n",
    "for x in flatten(items):\n",
    "    print(x)"
   ]
  },
  {
   "cell_type": "code",
   "execution_count": 90,
   "id": "1272b4e5",
   "metadata": {},
   "outputs": [],
   "source": [
    "# check the list of range(10000)\n",
    "# check size of generator\n",
    "\n"
   ]
  },
  {
   "cell_type": "code",
   "execution_count": 91,
   "id": "8822b563",
   "metadata": {},
   "outputs": [
    {
     "data": {
      "text/plain": [
       "28"
      ]
     },
     "execution_count": 91,
     "metadata": {},
     "output_type": "execute_result"
    }
   ],
   "source": [
    "import sys, os\n",
    "sys.getsizeof(1)"
   ]
  },
  {
   "cell_type": "code",
   "execution_count": 93,
   "id": "ad304dd2",
   "metadata": {},
   "outputs": [
    {
     "ename": "FileNotFoundError",
     "evalue": "[Errno 2] No such file or directory: 'simple.txt'",
     "output_type": "error",
     "traceback": [
      "\u001b[1;31m---------------------------------------------------------------------------\u001b[0m",
      "\u001b[1;31mFileNotFoundError\u001b[0m                         Traceback (most recent call last)",
      "\u001b[1;32m~\\AppData\\Local\\Temp/ipykernel_10948/3832076643.py\u001b[0m in \u001b[0;36m<module>\u001b[1;34m\u001b[0m\n\u001b[0;32m      1\u001b[0m \u001b[1;31m#files\u001b[0m\u001b[1;33m\u001b[0m\u001b[1;33m\u001b[0m\u001b[1;33m\u001b[0m\u001b[0m\n\u001b[0;32m      2\u001b[0m \u001b[1;33m\u001b[0m\u001b[0m\n\u001b[1;32m----> 3\u001b[1;33m \u001b[1;32mwith\u001b[0m \u001b[0mopen\u001b[0m\u001b[1;33m(\u001b[0m\u001b[1;34m'simple.txt'\u001b[0m\u001b[1;33m,\u001b[0m\u001b[1;34m'rt'\u001b[0m\u001b[1;33m)\u001b[0m \u001b[1;32mas\u001b[0m \u001b[0mf\u001b[0m\u001b[1;33m:\u001b[0m\u001b[1;33m\u001b[0m\u001b[1;33m\u001b[0m\u001b[0m\n\u001b[0m\u001b[0;32m      4\u001b[0m     \u001b[0mdata\u001b[0m \u001b[1;33m=\u001b[0m \u001b[0mf\u001b[0m\u001b[1;33m.\u001b[0m\u001b[0mread\u001b[0m\u001b[1;33m(\u001b[0m\u001b[1;33m)\u001b[0m\u001b[1;33m\u001b[0m\u001b[1;33m\u001b[0m\u001b[0m\n\u001b[0;32m      5\u001b[0m \u001b[0mprint\u001b[0m\u001b[1;33m(\u001b[0m\u001b[0mdata\u001b[0m\u001b[1;33m)\u001b[0m\u001b[1;33m\u001b[0m\u001b[1;33m\u001b[0m\u001b[0m\n",
      "\u001b[1;31mFileNotFoundError\u001b[0m: [Errno 2] No such file or directory: 'simple.txt'"
     ]
    }
   ],
   "source": [
    "#files\n",
    "\n",
    "with open('simple.txt','rt') as f:\n",
    "    data = f.read()\n",
    "print(data)\n"
   ]
  },
  {
   "cell_type": "code",
   "execution_count": 96,
   "id": "9ec44b31",
   "metadata": {},
   "outputs": [
    {
     "data": {
      "text/plain": [
       "80056"
      ]
     },
     "execution_count": 96,
     "metadata": {},
     "output_type": "execute_result"
    }
   ],
   "source": [
    "import sys, os\n",
    "sys.getsizeof(list(range(10000)))"
   ]
  },
  {
   "cell_type": "code",
   "execution_count": 97,
   "id": "d654887f",
   "metadata": {},
   "outputs": [],
   "source": [
    "with open('abc.txt', 'wt') as f:\n",
    "    print('hi', file=f)\n",
    "    print('hello',file=f)"
   ]
  },
  {
   "cell_type": "code",
   "execution_count": 98,
   "id": "733550bd",
   "metadata": {},
   "outputs": [
    {
     "name": "stdout",
     "output_type": "stream",
     "text": [
      "hi\n",
      "hello\n",
      "\n"
     ]
    }
   ],
   "source": [
    "with open('abc.txt', 'rt') as f:\n",
    "    print(f.read())"
   ]
  },
  {
   "cell_type": "code",
   "execution_count": 1,
   "id": "a79d2dac",
   "metadata": {},
   "outputs": [],
   "source": [
    "with open(\"somefile.txt\",\"wt\") as f:\n",
    "    f.write(\"Hi\")\n",
    "    f.write(\"Hello\")"
   ]
  },
  {
   "cell_type": "code",
   "execution_count": 2,
   "id": "5095f1bf",
   "metadata": {},
   "outputs": [],
   "source": [
    "# redirect out file\n",
    "with open(\"somefile.txt\",\"wt\") as f:\n",
    "    print(\"Hi python\", file=f)\n",
    "    print(\"Line 3\", file=f)"
   ]
  },
  {
   "cell_type": "code",
   "execution_count": 4,
   "id": "f8200c70",
   "metadata": {},
   "outputs": [],
   "source": [
    "f=open(\"somefile.txt\",\"rt\")\n",
    "data = f.read()\n",
    "f.close()"
   ]
  },
  {
   "cell_type": "code",
   "execution_count": 5,
   "id": "5288acd3",
   "metadata": {},
   "outputs": [
    {
     "data": {
      "text/plain": [
       "'Hi python\\nLine 3\\n'"
      ]
     },
     "execution_count": 5,
     "metadata": {},
     "output_type": "execute_result"
    }
   ],
   "source": [
    "data"
   ]
  },
  {
   "cell_type": "code",
   "execution_count": 7,
   "id": "3672ad8a",
   "metadata": {},
   "outputs": [
    {
     "data": {
      "text/plain": [
       "'use admin db.createUser({\\n    user: \"myUserAdmin\",\\n    pwd: \"abc123\",\\n    roles: [ { role: \"userAdminAnyDatabase\", db: \"admin\" } ]\\n  }\\n)\\n\\ndb.createUser({ user: \"myUserAdmin\",pwd: \"abc123\", roles: [ { role: \"userAdminAnyDatabase\", db: \"admin\" } ]})\\n\\nmongo --port 27017 -u \"myUserAdmin\" -p \"abc123\"  --authenticationDatabase \"admin\"'"
      ]
     },
     "execution_count": 7,
     "metadata": {},
     "output_type": "execute_result"
    }
   ],
   "source": [
    "#Replace bad char with unicode \n",
    "f = open(\"C:/Users/Aditya/Desktop/p.txt\",\"rt\",encoding=\"ascii\",errors=\"replace\")\n",
    "f.read()"
   ]
  },
  {
   "cell_type": "code",
   "execution_count": 9,
   "id": "8d5bb2aa",
   "metadata": {},
   "outputs": [],
   "source": [
    "# write binary data file\n",
    "with open(\"somefile.bin\",\"wb\") as f:\n",
    "    f.write(b'Hello world')"
   ]
  },
  {
   "cell_type": "code",
   "execution_count": 10,
   "id": "d28a86c9",
   "metadata": {},
   "outputs": [],
   "source": [
    "# read the data from binary file\n",
    "with open('somefile.bin',\"rb\") as f:\n",
    "    data = f.read()"
   ]
  },
  {
   "cell_type": "code",
   "execution_count": 11,
   "id": "a9862657",
   "metadata": {},
   "outputs": [
    {
     "data": {
      "text/plain": [
       "b'Hello world'"
      ]
     },
     "execution_count": 11,
     "metadata": {},
     "output_type": "execute_result"
    }
   ],
   "source": [
    "data"
   ]
  },
  {
   "cell_type": "code",
   "execution_count": 12,
   "id": "a783d134",
   "metadata": {},
   "outputs": [],
   "source": [
    "import os\n",
    "if not os.path.exists(\"somefile1\"):\n",
    "    with open(\"somefile1\",\"wt\") as f:\n",
    "        f.write(\"Hello\\n\")\n",
    "else:\n",
    "    print(\"file is already exists\")"
   ]
  },
  {
   "cell_type": "code",
   "execution_count": 13,
   "id": "d68c4d7c",
   "metadata": {},
   "outputs": [],
   "source": [
    "#gzip compression\n",
    "\n",
    "import gzip\n",
    "with gzip.open(\"somefile-new.gz\",\"wt\") as f:\n",
    "    f.write(\"text compression\")"
   ]
  },
  {
   "cell_type": "code",
   "execution_count": 14,
   "id": "a632daa5",
   "metadata": {},
   "outputs": [],
   "source": [
    "#bz2\n",
    "import bz2\n",
    "with bz2.open(\"somefile.bz2\",\"wt\") as f:\n",
    "    f.write(\"text compression\")"
   ]
  },
  {
   "cell_type": "code",
   "execution_count": 15,
   "id": "34060bf2",
   "metadata": {},
   "outputs": [
    {
     "name": "stdout",
     "output_type": "stream",
     "text": [
      "text info \u001f‹\b\b+\bHa\u0002ÿsomefile-new\u0000*I­(QHÎÏ-(J-.ÎÌÏ\u0003\u0000\u0000\u0000ÿÿ\u0003\u0000ƒvæ.\u0010\u0000\u0000\u0000\n"
     ]
    }
   ],
   "source": [
    "import gzip\n",
    "with open(\"somefile-new.gz\",\"rt\") as f:\n",
    "    text = f.read()\n",
    "    print(\"text info\", text)"
   ]
  },
  {
   "cell_type": "code",
   "execution_count": 16,
   "id": "d318f3f1",
   "metadata": {},
   "outputs": [
    {
     "name": "stdout",
     "output_type": "stream",
     "text": [
      "text1 text compression\n"
     ]
    }
   ],
   "source": [
    "#bz2 compression\n",
    "with bz2.open(\"somefile.bz2\",\"rt\") as f:\n",
    "    text = f.read()\n",
    "    print(\"text1\",text)"
   ]
  },
  {
   "cell_type": "code",
   "execution_count": 17,
   "id": "3724c3da",
   "metadata": {},
   "outputs": [],
   "source": [
    "fh = open(\"C:/Users/Aditya/Desktop/p.txt\")"
   ]
  },
  {
   "cell_type": "code",
   "execution_count": 18,
   "id": "d136bd92",
   "metadata": {},
   "outputs": [
    {
     "name": "stdout",
     "output_type": "stream",
     "text": [
      "use admin db.createUser({\n",
      "    user: \"myUserAdmin\",\n",
      "    pwd: \"abc123\",\n",
      "    roles: [ { role: \"userAdminAnyDatabase\", db: \"admin\" } ]\n",
      "  }\n",
      ")\n",
      "\n",
      "db.createUser({ user: \"myUserAdmin\",pwd: \"abc123\", roles: [ { role: \"userAdminAnyDatabase\", db: \"admin\" } ]})\n",
      "\n",
      "mongo --port 27017 -u \"myUserAdmin\" -p \"abc123\"  --authenticationDatabase \"admin\"\n"
     ]
    }
   ],
   "source": [
    "print(fh.read())"
   ]
  },
  {
   "cell_type": "code",
   "execution_count": 19,
   "id": "e51d2304",
   "metadata": {},
   "outputs": [
    {
     "data": {
      "text/plain": [
       "''"
      ]
     },
     "execution_count": 19,
     "metadata": {},
     "output_type": "execute_result"
    }
   ],
   "source": [
    "fh.read()"
   ]
  },
  {
   "cell_type": "code",
   "execution_count": 20,
   "id": "a797bcd9",
   "metadata": {},
   "outputs": [],
   "source": [
    "fh = open(\"C:/Users/Aditya/Desktop/p.txt\")"
   ]
  },
  {
   "cell_type": "code",
   "execution_count": 21,
   "id": "aad834fe",
   "metadata": {},
   "outputs": [
    {
     "data": {
      "text/plain": [
       "'use admin db.createUser({\\n'"
      ]
     },
     "execution_count": 21,
     "metadata": {},
     "output_type": "execute_result"
    }
   ],
   "source": [
    "fh.readline()"
   ]
  },
  {
   "cell_type": "code",
   "execution_count": 22,
   "id": "83401033",
   "metadata": {},
   "outputs": [
    {
     "data": {
      "text/plain": [
       "'    user: \"myUserAdmin\",\\n'"
      ]
     },
     "execution_count": 22,
     "metadata": {},
     "output_type": "execute_result"
    }
   ],
   "source": [
    "fh.readline()"
   ]
  },
  {
   "cell_type": "code",
   "execution_count": 23,
   "id": "5058b75c",
   "metadata": {},
   "outputs": [
    {
     "name": "stdout",
     "output_type": "stream",
     "text": [
      "use admin db.createUser({\n",
      "\n",
      "    user: \"myUserAdmin\",\n",
      "\n"
     ]
    }
   ],
   "source": [
    "with open(\"C:/Users/Aditya/Desktop/p.txt\") as fh:\n",
    "    print(fh.readline())\n",
    "    print(fh.readline())"
   ]
  },
  {
   "cell_type": "code",
   "execution_count": 24,
   "id": "a329ec99",
   "metadata": {},
   "outputs": [
    {
     "name": "stdout",
     "output_type": "stream",
     "text": [
      "use admin db.createUser({\n",
      "    user: \"myUserAdmin\",\n",
      "    pwd: \"abc123\",\n",
      "    roles: [ { role: \"userAdminAnyDatabase\", db: \"admin\" } ]\n",
      "  }\n",
      ")\n",
      "\n",
      "db.createUser({ user: \"myUserAdmin\",pwd: \"abc123\", roles: [ { role: \"userAdminAnyDatabase\", db: \"admin\" } ]})\n",
      "\n",
      "mongo --port 27017 -u \"myUserAdmin\" -p \"abc123\"  --authenticationDatabase \"admin\""
     ]
    }
   ],
   "source": [
    "with open(\"C:/Users/Aditya/Desktop/p.txt\") as fh:\n",
    "    for line in fh:\n",
    "        print(line,end='')"
   ]
  },
  {
   "cell_type": "code",
   "execution_count": 25,
   "id": "ffe5ddd7",
   "metadata": {},
   "outputs": [],
   "source": [
    "# print all lines containing python incluing line number"
   ]
  },
  {
   "cell_type": "code",
   "execution_count": 26,
   "id": "6dc26375",
   "metadata": {},
   "outputs": [],
   "source": [
    "with open(\"C:/Users/Aditya/Desktop/p.txt\") as fh:\n",
    "    count = 1\n",
    "    for line in fh:\n",
    "        if 'python'.upper() in line.upper():\n",
    "            print(count,line,end='')\n",
    "            count +=1"
   ]
  },
  {
   "cell_type": "code",
   "execution_count": 29,
   "id": "64499030",
   "metadata": {},
   "outputs": [
    {
     "ename": "ValueError",
     "evalue": "could not convert string to float: 'tracking_id'",
     "output_type": "error",
     "traceback": [
      "\u001b[1;31m---------------------------------------------------------------------------\u001b[0m",
      "\u001b[1;31mValueError\u001b[0m                                Traceback (most recent call last)",
      "\u001b[1;32m~\\AppData\\Local\\Temp/ipykernel_11724/377733660.py\u001b[0m in \u001b[0;36m<module>\u001b[1;34m\u001b[0m\n\u001b[0;32m     10\u001b[0m             \u001b[0mdata\u001b[0m\u001b[1;33m[\u001b[0m\u001b[0mcols\u001b[0m\u001b[1;33m[\u001b[0m\u001b[1;36m1\u001b[0m\u001b[1;33m]\u001b[0m\u001b[1;33m.\u001b[0m\u001b[0mstrip\u001b[0m\u001b[1;33m(\u001b[0m\u001b[1;33m)\u001b[0m\u001b[1;33m]\u001b[0m\u001b[1;33m.\u001b[0m\u001b[0mappend\u001b[0m\u001b[1;33m(\u001b[0m\u001b[0mfloat\u001b[0m\u001b[1;33m(\u001b[0m\u001b[0mcols\u001b[0m\u001b[1;33m[\u001b[0m\u001b[1;36m2\u001b[0m\u001b[1;33m]\u001b[0m\u001b[1;33m)\u001b[0m\u001b[1;33m)\u001b[0m\u001b[1;33m\u001b[0m\u001b[1;33m\u001b[0m\u001b[0m\n\u001b[0;32m     11\u001b[0m         \u001b[1;32melse\u001b[0m\u001b[1;33m:\u001b[0m\u001b[1;33m\u001b[0m\u001b[1;33m\u001b[0m\u001b[0m\n\u001b[1;32m---> 12\u001b[1;33m              \u001b[0mdata\u001b[0m\u001b[1;33m[\u001b[0m\u001b[0mcols\u001b[0m\u001b[1;33m[\u001b[0m\u001b[1;36m1\u001b[0m\u001b[1;33m]\u001b[0m\u001b[1;33m.\u001b[0m\u001b[0mstrip\u001b[0m\u001b[1;33m(\u001b[0m\u001b[1;33m)\u001b[0m\u001b[1;33m]\u001b[0m \u001b[1;33m=\u001b[0m \u001b[1;33m(\u001b[0m\u001b[0mfloat\u001b[0m\u001b[1;33m(\u001b[0m\u001b[0mcols\u001b[0m\u001b[1;33m[\u001b[0m\u001b[1;36m2\u001b[0m\u001b[1;33m]\u001b[0m\u001b[1;33m)\u001b[0m\u001b[1;33m)\u001b[0m\u001b[1;33m\u001b[0m\u001b[1;33m\u001b[0m\u001b[0m\n\u001b[0m\u001b[0;32m     13\u001b[0m \u001b[1;32mfor\u001b[0m \u001b[0myear\u001b[0m \u001b[1;32min\u001b[0m \u001b[0mdata\u001b[0m\u001b[1;33m:\u001b[0m\u001b[1;33m\u001b[0m\u001b[1;33m\u001b[0m\u001b[0m\n\u001b[0;32m     14\u001b[0m     \u001b[0mprint\u001b[0m\u001b[1;33m(\u001b[0m\u001b[1;34m\"Average price for {} is {}\"\u001b[0m\u001b[1;33m.\u001b[0m\u001b[0mformat\u001b[0m\u001b[1;33m(\u001b[0m\u001b[0myear\u001b[0m\u001b[1;33m,\u001b[0m\u001b[0mround\u001b[0m\u001b[1;33m(\u001b[0m\u001b[0msum\u001b[0m\u001b[1;33m(\u001b[0m\u001b[0mdata\u001b[0m\u001b[1;33m[\u001b[0m\u001b[0myear\u001b[0m\u001b[1;33m]\u001b[0m\u001b[1;33m)\u001b[0m\u001b[1;33m/\u001b[0m\u001b[0mlen\u001b[0m\u001b[1;33m(\u001b[0m\u001b[0mdata\u001b[0m\u001b[1;33m[\u001b[0m\u001b[0myear\u001b[0m\u001b[1;33m]\u001b[0m\u001b[1;33m)\u001b[0m\u001b[1;33m,\u001b[0m\u001b[1;36m2\u001b[0m\u001b[1;33m)\u001b[0m\u001b[1;33m)\u001b[0m\u001b[1;33m)\u001b[0m\u001b[1;33m\u001b[0m\u001b[1;33m\u001b[0m\u001b[0m\n",
      "\u001b[1;31mValueError\u001b[0m: could not convert string to float: 'tracking_id'"
     ]
    }
   ],
   "source": [
    "data ={}\n",
    "with open(\"C:/Users/Aditya/Downloads/NDAQ-TR.csv\") as b:\n",
    "    pricelist=[]\n",
    "    for rec in b:\n",
    "        rec = rec.strip()\n",
    "        cols = [x.strip('\"\"') for x in rec.split(',')]\n",
    "        if cols[2] == \"Open\" or cols[2] == \"High\":\n",
    "            continue\n",
    "        if cols[1] in data:\n",
    "            data[cols[1].strip()].append(float(cols[2]))\n",
    "        else:\n",
    "             data[cols[1].strip()] = (float(cols[2]))\n",
    "for year in data:\n",
    "    print(\"Average price for {} is {}\".format(year,round(sum(data[year])/len(data[year]),2)))"
   ]
  },
  {
   "cell_type": "code",
   "execution_count": 32,
   "id": "7baff6fe",
   "metadata": {},
   "outputs": [
    {
     "ename": "ValueError",
     "evalue": "could not convert string to float: 'publish_date'",
     "output_type": "error",
     "traceback": [
      "\u001b[1;31m---------------------------------------------------------------------------\u001b[0m",
      "\u001b[1;31mValueError\u001b[0m                                Traceback (most recent call last)",
      "\u001b[1;32m~\\AppData\\Local\\Temp/ipykernel_11724/3269732497.py\u001b[0m in \u001b[0;36m<module>\u001b[1;34m\u001b[0m\n\u001b[0;32m     10\u001b[0m             \u001b[0mdata\u001b[0m\u001b[1;33m[\u001b[0m\u001b[0mcols\u001b[0m\u001b[1;33m[\u001b[0m\u001b[1;36m1\u001b[0m\u001b[1;33m]\u001b[0m\u001b[1;33m.\u001b[0m\u001b[0mstrip\u001b[0m\u001b[1;33m(\u001b[0m\u001b[1;33m)\u001b[0m\u001b[1;33m]\u001b[0m\u001b[1;33m.\u001b[0m\u001b[0mappend\u001b[0m\u001b[1;33m(\u001b[0m\u001b[0mfloat\u001b[0m\u001b[1;33m(\u001b[0m\u001b[0mcols\u001b[0m\u001b[1;33m[\u001b[0m\u001b[1;36m2\u001b[0m\u001b[1;33m]\u001b[0m\u001b[1;33m)\u001b[0m\u001b[1;33m)\u001b[0m\u001b[1;33m\u001b[0m\u001b[1;33m\u001b[0m\u001b[0m\n\u001b[0;32m     11\u001b[0m         \u001b[1;32melse\u001b[0m\u001b[1;33m:\u001b[0m\u001b[1;33m\u001b[0m\u001b[1;33m\u001b[0m\u001b[0m\n\u001b[1;32m---> 12\u001b[1;33m             \u001b[0mdata\u001b[0m\u001b[1;33m[\u001b[0m\u001b[0mcols\u001b[0m\u001b[1;33m[\u001b[0m\u001b[1;36m1\u001b[0m\u001b[1;33m]\u001b[0m\u001b[1;33m.\u001b[0m\u001b[0mstrip\u001b[0m\u001b[1;33m(\u001b[0m\u001b[1;33m)\u001b[0m\u001b[1;33m]\u001b[0m \u001b[1;33m=\u001b[0m \u001b[1;33m[\u001b[0m\u001b[0mfloat\u001b[0m\u001b[1;33m(\u001b[0m\u001b[0mcols\u001b[0m\u001b[1;33m[\u001b[0m\u001b[1;36m2\u001b[0m\u001b[1;33m]\u001b[0m\u001b[1;33m)\u001b[0m\u001b[1;33m]\u001b[0m\u001b[1;33m\u001b[0m\u001b[1;33m\u001b[0m\u001b[0m\n\u001b[0m\u001b[0;32m     13\u001b[0m     \u001b[1;32mfor\u001b[0m \u001b[0myear\u001b[0m \u001b[1;32min\u001b[0m \u001b[0mdata\u001b[0m\u001b[1;33m:\u001b[0m\u001b[1;33m\u001b[0m\u001b[1;33m\u001b[0m\u001b[0m\n\u001b[0;32m     14\u001b[0m         \u001b[0mavg_price\u001b[0m \u001b[1;33m=\u001b[0m \u001b[0mround\u001b[0m\u001b[1;33m(\u001b[0m\u001b[0msum\u001b[0m\u001b[1;33m(\u001b[0m\u001b[0mdata\u001b[0m\u001b[1;33m[\u001b[0m\u001b[0myear\u001b[0m\u001b[1;33m]\u001b[0m\u001b[1;33m)\u001b[0m \u001b[1;33m/\u001b[0m \u001b[0mlen\u001b[0m\u001b[1;33m(\u001b[0m\u001b[0mdata\u001b[0m\u001b[1;33m[\u001b[0m\u001b[0myear\u001b[0m\u001b[1;33m]\u001b[0m\u001b[1;33m)\u001b[0m\u001b[1;33m,\u001b[0m \u001b[1;36m2\u001b[0m\u001b[1;33m)\u001b[0m\u001b[1;33m\u001b[0m\u001b[1;33m\u001b[0m\u001b[0m\n",
      "\u001b[1;31mValueError\u001b[0m: could not convert string to float: 'publish_date'"
     ]
    }
   ],
   "source": [
    "data = {}\n",
    "with open(\"C:/Users/Aditya/Downloads/DY.csv\") as b, open(\"data-writes.txt\", \"w+\") as w:\n",
    "    pricelist = []\n",
    "    for rec in b:\n",
    "        rec = rec.strip()\n",
    "        cols = [x.strip('\"') for x in rec.split(',')]\n",
    "        if cols[2] == \"Open\" or cols[2] == \"High\":\n",
    "            continue\n",
    "        if cols[1] in data:\n",
    "            data[cols[1].strip()].append(float(cols[2]))\n",
    "        else:\n",
    "            data[cols[1].strip()] = [float(cols[2])]\n",
    "    for year in data:\n",
    "        avg_price = round(sum(data[year]) / len(data[year]), 2)\n",
    "        w.write(\"Avg price for {} is {} \\n\".format(year, avg_price))\n",
    "\n"
   ]
  },
  {
   "cell_type": "code",
   "execution_count": 33,
   "id": "45004736",
   "metadata": {},
   "outputs": [],
   "source": [
    "import os\n",
    "path = \"/usr/Aditya/data/data.csv\""
   ]
  },
  {
   "cell_type": "code",
   "execution_count": 35,
   "id": "cdb8041e",
   "metadata": {},
   "outputs": [
    {
     "data": {
      "text/plain": [
       "'data.csv'"
      ]
     },
     "execution_count": 35,
     "metadata": {},
     "output_type": "execute_result"
    }
   ],
   "source": [
    "os.path.basename(path)"
   ]
  },
  {
   "cell_type": "code",
   "execution_count": 36,
   "id": "ec8f2d02",
   "metadata": {},
   "outputs": [
    {
     "data": {
      "text/plain": [
       "'/usr/Aditya/data'"
      ]
     },
     "execution_count": 36,
     "metadata": {},
     "output_type": "execute_result"
    }
   ],
   "source": [
    "# get the directory name\n",
    "os.path.dirname(path)"
   ]
  },
  {
   "cell_type": "code",
   "execution_count": 38,
   "id": "1a88f123",
   "metadata": {},
   "outputs": [
    {
     "data": {
      "text/plain": [
       "'tmp\\\\data\\\\data.csv'"
      ]
     },
     "execution_count": 38,
     "metadata": {},
     "output_type": "execute_result"
    }
   ],
   "source": [
    "# join componn=ent path\n",
    "os.path.join(\"tmp\",\"data\", os.path.basename(path))"
   ]
  },
  {
   "cell_type": "code",
   "execution_count": 39,
   "id": "71064029",
   "metadata": {},
   "outputs": [
    {
     "data": {
      "text/plain": [
       "'C:\\\\Users\\\\Aditya/Data/data.csv'"
      ]
     },
     "execution_count": 39,
     "metadata": {},
     "output_type": "execute_result"
    }
   ],
   "source": [
    "# expand the user's home directory\n",
    "path = '~/Data/data.csv'\n",
    "os.path.expanduser(path)"
   ]
  },
  {
   "cell_type": "code",
   "execution_count": 41,
   "id": "f849e161",
   "metadata": {},
   "outputs": [
    {
     "data": {
      "text/plain": [
       "('~/Data/data', '.csv')"
      ]
     },
     "execution_count": 41,
     "metadata": {},
     "output_type": "execute_result"
    }
   ],
   "source": [
    "#split the file extension\n",
    "os.path.splitext(path)"
   ]
  },
  {
   "cell_type": "code",
   "execution_count": 42,
   "id": "4ebce75a",
   "metadata": {},
   "outputs": [
    {
     "data": {
      "text/plain": [
       "False"
      ]
     },
     "execution_count": 42,
     "metadata": {},
     "output_type": "execute_result"
    }
   ],
   "source": [
    "import os\n",
    "os.path.exists('/etc/passwd')"
   ]
  },
  {
   "cell_type": "code",
   "execution_count": 43,
   "id": "a220e57d",
   "metadata": {},
   "outputs": [
    {
     "data": {
      "text/plain": [
       "False"
      ]
     },
     "execution_count": 43,
     "metadata": {},
     "output_type": "execute_result"
    }
   ],
   "source": [
    "os.path.isfile('/etc/passwd')"
   ]
  },
  {
   "cell_type": "code",
   "execution_count": 44,
   "id": "6e75f6b6",
   "metadata": {},
   "outputs": [
    {
     "data": {
      "text/plain": [
       "False"
      ]
     },
     "execution_count": 44,
     "metadata": {},
     "output_type": "execute_result"
    }
   ],
   "source": [
    "os.path.isdir(\"/etc/passwd\")"
   ]
  },
  {
   "cell_type": "code",
   "execution_count": 45,
   "id": "b588dbc5",
   "metadata": {},
   "outputs": [
    {
     "data": {
      "text/plain": [
       "False"
      ]
     },
     "execution_count": 45,
     "metadata": {},
     "output_type": "execute_result"
    }
   ],
   "source": [
    "# is symbolic path\n",
    "os.path.islink(\"/usr/local/bin/python3\")"
   ]
  },
  {
   "cell_type": "code",
   "execution_count": 46,
   "id": "e1286983",
   "metadata": {},
   "outputs": [
    {
     "data": {
      "text/plain": [
       "'C:\\\\usr\\\\local\\\\bin\\\\python3'"
      ]
     },
     "execution_count": 46,
     "metadata": {},
     "output_type": "execute_result"
    }
   ],
   "source": [
    "os.path.realpath(\"/usr/local/bin/python3\")"
   ]
  },
  {
   "cell_type": "code",
   "execution_count": 47,
   "id": "f71cce23",
   "metadata": {},
   "outputs": [
    {
     "name": "stdout",
     "output_type": "stream",
     "text": [
      "['$GetCurrent', '$Recycle.Bin', '$WinREAgent', '.android', '.tmp.drivedownload', 'Angular Project', 'DCIM', 'devlist.txt', 'Documents and Settings', 'DumpStack.log', 'DumpStack.log.tmp', 'Entertainment', 'eSupport', 'Finish.log', 'Game', 'hiberfil.sys', 'Intel', 'Music', 'NvContainerRecoveryNVDisplay.ContainerLocalSystem.reg', 'OneDriveTemp', 'pagefile.sys', 'PerfLogs', 'PG', 'Program Files', 'Program Files (x86)', 'ProgramData', 'Recovery', 'SETUPS', 'swapfile.sys', 'System Volume Information', 'Temp', 'Tensorflow', 'testapp', 'Users', 'wamp64', 'Windows', 'Windows10Upgrade', 'xampp']\n"
     ]
    }
   ],
   "source": [
    "import os\n",
    "name = os.listdir(\"/\")\n",
    "print(name)"
   ]
  },
  {
   "cell_type": "code",
   "execution_count": 48,
   "id": "c0c32466",
   "metadata": {},
   "outputs": [],
   "source": [
    "#get all regular files\n",
    "import os.path\n",
    "names = [name for name in os.listdir(\"/\") if os.path.isfile(os.path.join('/',name))]"
   ]
  },
  {
   "cell_type": "markdown",
   "id": "d6872648",
   "metadata": {},
   "source": []
  },
  {
   "cell_type": "code",
   "execution_count": 49,
   "id": "3b9a92b9",
   "metadata": {},
   "outputs": [
    {
     "data": {
      "text/plain": [
       "['devlist.txt',\n",
       " 'DumpStack.log',\n",
       " 'DumpStack.log.tmp',\n",
       " 'Finish.log',\n",
       " 'hiberfil.sys',\n",
       " 'NvContainerRecoveryNVDisplay.ContainerLocalSystem.reg',\n",
       " 'pagefile.sys',\n",
       " 'swapfile.sys']"
      ]
     },
     "execution_count": 49,
     "metadata": {},
     "output_type": "execute_result"
    }
   ],
   "source": [
    "names"
   ]
  },
  {
   "cell_type": "code",
   "execution_count": 50,
   "id": "8a7c33e2",
   "metadata": {},
   "outputs": [],
   "source": [
    "# get all dirs"
   ]
  },
  {
   "cell_type": "code",
   "execution_count": 51,
   "id": "b5796652",
   "metadata": {},
   "outputs": [],
   "source": [
    "dirnames = [name for name in os.listdir('/') if os.path.isdir(os.path.join('/',name))]"
   ]
  },
  {
   "cell_type": "code",
   "execution_count": 52,
   "id": "7b2e789a",
   "metadata": {},
   "outputs": [
    {
     "data": {
      "text/plain": [
       "['$GetCurrent',\n",
       " '$Recycle.Bin',\n",
       " '$WinREAgent',\n",
       " '.android',\n",
       " '.tmp.drivedownload',\n",
       " 'Angular Project',\n",
       " 'DCIM',\n",
       " 'Documents and Settings',\n",
       " 'Entertainment',\n",
       " 'eSupport',\n",
       " 'Game',\n",
       " 'Intel',\n",
       " 'Music',\n",
       " 'OneDriveTemp',\n",
       " 'PerfLogs',\n",
       " 'PG',\n",
       " 'Program Files',\n",
       " 'Program Files (x86)',\n",
       " 'ProgramData',\n",
       " 'Recovery',\n",
       " 'SETUPS',\n",
       " 'System Volume Information',\n",
       " 'Temp',\n",
       " 'Tensorflow',\n",
       " 'testapp',\n",
       " 'Users',\n",
       " 'wamp64',\n",
       " 'Windows',\n",
       " 'Windows10Upgrade',\n",
       " 'xampp']"
      ]
     },
     "execution_count": 52,
     "metadata": {},
     "output_type": "execute_result"
    }
   ],
   "source": [
    "dirnames"
   ]
  },
  {
   "cell_type": "code",
   "execution_count": 53,
   "id": "8d993b51",
   "metadata": {},
   "outputs": [],
   "source": [
    "pyfiles = [name for name in os.listdir('/') if name.endswith('.py')]"
   ]
  },
  {
   "cell_type": "code",
   "execution_count": 54,
   "id": "d46d6c28",
   "metadata": {},
   "outputs": [
    {
     "data": {
      "text/plain": [
       "[]"
      ]
     },
     "execution_count": 54,
     "metadata": {},
     "output_type": "execute_result"
    }
   ],
   "source": [
    "pyfiles"
   ]
  },
  {
   "cell_type": "code",
   "execution_count": 55,
   "id": "379a9863",
   "metadata": {},
   "outputs": [],
   "source": [
    "import pickle"
   ]
  },
  {
   "cell_type": "code",
   "execution_count": 56,
   "id": "fbf9f4d9",
   "metadata": {},
   "outputs": [],
   "source": [
    "dict_pickle = {\"Key\": \"John\",\"name\":\"fred\",\"age\":21,\"pat\":40000}\n",
    "f = open('pickel1','wb')\n",
    "pickle.dump(dict_pickle,f)"
   ]
  },
  {
   "cell_type": "code",
   "execution_count": 60,
   "id": "123d3091",
   "metadata": {},
   "outputs": [],
   "source": [
    "s = pickle.dumps(dict_pickle)"
   ]
  },
  {
   "cell_type": "code",
   "execution_count": 61,
   "id": "d8c96b4e",
   "metadata": {},
   "outputs": [
    {
     "name": "stdout",
     "output_type": "stream",
     "text": [
      "b'\\x80\\x04\\x951\\x00\\x00\\x00\\x00\\x00\\x00\\x00}\\x94(\\x8c\\x03Key\\x94\\x8c\\x04John\\x94\\x8c\\x04name\\x94\\x8c\\x04fred\\x94\\x8c\\x03age\\x94K\\x15\\x8c\\x03pat\\x94M@\\x9cu.'\n"
     ]
    }
   ],
   "source": [
    "print(s)"
   ]
  },
  {
   "cell_type": "code",
   "execution_count": 65,
   "id": "65789b9a",
   "metadata": {},
   "outputs": [],
   "source": [
    "#restore from file\n",
    "f = open('pickel1','rb')\n",
    "#load the object\n",
    "data = pickle.load(f)"
   ]
  },
  {
   "cell_type": "code",
   "execution_count": 66,
   "id": "1da143c4",
   "metadata": {},
   "outputs": [
    {
     "data": {
      "text/plain": [
       "{'Key': 'John', 'name': 'fred', 'age': 21, 'pat': 40000}"
      ]
     },
     "execution_count": 66,
     "metadata": {},
     "output_type": "execute_result"
    }
   ],
   "source": [
    "data"
   ]
  },
  {
   "cell_type": "code",
   "execution_count": 67,
   "id": "76d80e96",
   "metadata": {},
   "outputs": [],
   "source": [
    "import pickle\n"
   ]
  },
  {
   "cell_type": "code",
   "execution_count": 68,
   "id": "53b1d647",
   "metadata": {},
   "outputs": [],
   "source": [
    "f = open(\"somedata1\",\"wb\")"
   ]
  },
  {
   "cell_type": "code",
   "execution_count": 69,
   "id": "96f1afb2",
   "metadata": {},
   "outputs": [],
   "source": [
    "pickle.dump([1,2,3,4],f)"
   ]
  },
  {
   "cell_type": "code",
   "execution_count": 70,
   "id": "6d8f3315",
   "metadata": {},
   "outputs": [],
   "source": [
    "pickle.dump(\"hello\",f)"
   ]
  },
  {
   "cell_type": "code",
   "execution_count": 71,
   "id": "83a913e3",
   "metadata": {},
   "outputs": [],
   "source": [
    "pickle.dump({\"apple\",\"pear\",\"banana\"},f)"
   ]
  },
  {
   "cell_type": "code",
   "execution_count": 72,
   "id": "a254bb7c",
   "metadata": {},
   "outputs": [],
   "source": [
    "f.close()"
   ]
  },
  {
   "cell_type": "code",
   "execution_count": 73,
   "id": "c08146c0",
   "metadata": {},
   "outputs": [],
   "source": [
    "f = open(\"somedata1\",\"rb\")"
   ]
  },
  {
   "cell_type": "code",
   "execution_count": 74,
   "id": "8f3b5e18",
   "metadata": {},
   "outputs": [
    {
     "data": {
      "text/plain": [
       "[1, 2, 3, 4]"
      ]
     },
     "execution_count": 74,
     "metadata": {},
     "output_type": "execute_result"
    }
   ],
   "source": [
    "pickle.load(f)"
   ]
  },
  {
   "cell_type": "code",
   "execution_count": 75,
   "id": "536e3911",
   "metadata": {},
   "outputs": [
    {
     "data": {
      "text/plain": [
       "'hello'"
      ]
     },
     "execution_count": 75,
     "metadata": {},
     "output_type": "execute_result"
    }
   ],
   "source": [
    "pickle.load(f)"
   ]
  },
  {
   "cell_type": "code",
   "execution_count": 76,
   "id": "8a11bdfb",
   "metadata": {},
   "outputs": [
    {
     "data": {
      "text/plain": [
       "{'apple', 'banana', 'pear'}"
      ]
     },
     "execution_count": 76,
     "metadata": {},
     "output_type": "execute_result"
    }
   ],
   "source": [
    "pickle.load(f)"
   ]
  },
  {
   "cell_type": "code",
   "execution_count": 77,
   "id": "6a40e8ad",
   "metadata": {},
   "outputs": [
    {
     "data": {
      "text/plain": [
       "{'Key': 'John', 'name': 'fred', 'age': 21, 'pat': 40000}"
      ]
     },
     "execution_count": 77,
     "metadata": {},
     "output_type": "execute_result"
    }
   ],
   "source": [
    "pickle.loads(s)"
   ]
  },
  {
   "cell_type": "code",
   "execution_count": 82,
   "id": "5ca9d9ab",
   "metadata": {},
   "outputs": [],
   "source": [
    "import pickle\n",
    "def storedata():\n",
    "    #initializing the data\n",
    "    pickel_dataset_1={\"Key\":\"john\",\"name\":\"fred\",\"age\":21, \"pay\":40000}\n",
    "    pickel_dataset_2={\"Key\":\"jay\",\"name\":\"jay\",\"age\":50,\"Pay\":500000}\n",
    "    db ={}\n",
    "    db['john'] = pickel_dataset_1\n",
    "    db['jay']=pickel_dataset_2\n",
    "    dbfile = open(\"examplepickle\",\"wb\")\n",
    "    pickle.dump(db,dbfile)\n",
    "    dbfile.close()\n",
    "\n",
    "    def loaddata():\n",
    "        #for reading\n",
    "        dbfile = open(\"examplepickle\",\"rb\")\n",
    "        db = pickle.load(dbfile)\n",
    "        for key in db:\n",
    "            print(key,\"==>\",db[key])\n",
    "    if __name__ == '__main__':\n",
    "        storedata()\n",
    "        laoddata()"
   ]
  },
  {
   "cell_type": "code",
   "execution_count": 83,
   "id": "6fe10a30",
   "metadata": {},
   "outputs": [
    {
     "name": "stdout",
     "output_type": "stream",
     "text": [
      "john ==> {'key': 'john', 'name': 'fred', 'age': 21, 'pay': 400000}\n",
      "jay ==> {'key': 'jay', 'name': 'jay', 'age': 50, 'pay': 500000}\n"
     ]
    }
   ],
   "source": [
    "import pickle\n",
    "\n",
    "def storeData():\n",
    "    # intializing the data \n",
    "    pickel_dataset_1 = {\"key\":\"john\", \"name\": \"fred\", \"age\":21, \"pay\": 400000}\n",
    "    pickel_dataset_2 = {\"key\": \"jay\", \"name\": \"jay\", \"age\": 50, \"pay\": 500000}\n",
    "    \n",
    "    db = {}\n",
    "    db['john'] = pickel_dataset_1\n",
    "    db['jay'] = pickel_dataset_2\n",
    "    dbfile = open(\"examplepickle\", \"wb\")\n",
    "    pickle.dump(db, dbfile)\n",
    "    dbfile.close()\n",
    "\n",
    "    \n",
    "def loadData():\n",
    "    # for reading\n",
    "    \n",
    "    dbfile = open(\"examplepickle\", \"rb\")\n",
    "    db = pickle.load(dbfile)\n",
    "    for key in db:\n",
    "        print(key, \"==>\", db[key])\n",
    "    dbfile.close()\n",
    "\n",
    "    \n",
    "if __name__ =='__main__':\n",
    "    storeData()\n",
    "    loadData()\n"
   ]
  },
  {
   "cell_type": "code",
   "execution_count": 85,
   "id": "d8c03eb1",
   "metadata": {},
   "outputs": [
    {
     "name": "stdout",
     "output_type": "stream",
     "text": [
      "{\"name\": \"infy\", \"share\": 100, \"price\": 1000}\n"
     ]
    }
   ],
   "source": [
    "import json\n",
    "data = {\n",
    "    \"name\":\"infy\",\n",
    "    \"share\":100,\n",
    "    \"price\":1000\n",
    "}\n",
    "json_str = json.dumps(data)\n",
    "print(json_str)"
   ]
  },
  {
   "cell_type": "code",
   "execution_count": 86,
   "id": "abf13d2e",
   "metadata": {},
   "outputs": [
    {
     "name": "stdout",
     "output_type": "stream",
     "text": [
      "{'name': 'infy', 'share': 100, 'price': 1000}\n"
     ]
    }
   ],
   "source": [
    "data1 = json.loads(json_str)\n",
    "print(data1)"
   ]
  },
  {
   "cell_type": "code",
   "execution_count": 87,
   "id": "14249ff5",
   "metadata": {},
   "outputs": [],
   "source": [
    "with open(\"data.json\",\"w\") as f:\n",
    "    json.dump(data,f)"
   ]
  },
  {
   "cell_type": "code",
   "execution_count": 92,
   "id": "6dc5a502",
   "metadata": {},
   "outputs": [
    {
     "name": "stdout",
     "output_type": "stream",
     "text": [
      "{'name': 'infy', 'share': 100, 'price': 1000}\n"
     ]
    }
   ],
   "source": [
    "with open(\"data.json\",\"r\") as f:\n",
    "    g = json.load(f)\n",
    "    print(g)"
   ]
  },
  {
   "cell_type": "code",
   "execution_count": 89,
   "id": "0408ddf5",
   "metadata": {},
   "outputs": [
    {
     "data": {
      "text/plain": [
       "'false'"
      ]
     },
     "execution_count": 89,
     "metadata": {},
     "output_type": "execute_result"
    }
   ],
   "source": [
    "json.dumps(False)"
   ]
  },
  {
   "cell_type": "code",
   "execution_count": 90,
   "id": "67956f12",
   "metadata": {},
   "outputs": [],
   "source": [
    "d = {'a': True, \"b\":\"Hello\", 'c':None}"
   ]
  },
  {
   "cell_type": "code",
   "execution_count": 91,
   "id": "005267fc",
   "metadata": {},
   "outputs": [
    {
     "data": {
      "text/plain": [
       "'{\"a\": true, \"b\": \"Hello\", \"c\": null}'"
      ]
     },
     "execution_count": 91,
     "metadata": {},
     "output_type": "execute_result"
    }
   ],
   "source": [
    "json.dumps(d)"
   ]
  },
  {
   "cell_type": "code",
   "execution_count": null,
   "id": "98ff4310",
   "metadata": {},
   "outputs": [],
   "source": []
  }
 ],
 "metadata": {
  "kernelspec": {
   "display_name": "Python 3 (ipykernel)",
   "language": "python",
   "name": "python3"
  },
  "language_info": {
   "codemirror_mode": {
    "name": "ipython",
    "version": 3
   },
   "file_extension": ".py",
   "mimetype": "text/x-python",
   "name": "python",
   "nbconvert_exporter": "python",
   "pygments_lexer": "ipython3",
   "version": "3.8.1"
  }
 },
 "nbformat": 4,
 "nbformat_minor": 5
}
